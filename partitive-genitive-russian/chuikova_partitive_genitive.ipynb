{
 "cells": [
  {
   "cell_type": "markdown",
   "metadata": {
    "id": "lOB3XL9tQpq-"
   },
   "source": [
    "# Родительный партитивный в русском языке: словарные и корпусные данные\n",
    "\n",
    "В ноутбуке приведен статистический анализ языкового материала, отображенный в статье:\n",
    "\n",
    "[Родительный партитивный в русском языке: словарные и корпусные данные // Компьютерная лингвистика и интеллектуальные технологии: По материалам ежегодной международной конференции «Диалог». Вып. 22. Москва: РГГУ. С. 42-50.](https://www.dialog-21.ru/media/5888/chuikovaoiu059.pdf)\n",
    "\n",
    "**Описание данных**\n",
    "\n",
    "Сбор данных для анализа осуществлялся следующим образом.\n",
    "1. По данным [Малого академического словаря](https://feb-web.ru/feb/mas/mas-abc/default.asp) был установлен список глаголов совершенного вида, которые, согласно указанному словарю, способны к управлению родительным партитивным.\n",
    "2. Рассмотрение каждой глагольной лексемы с точки зрения характеризующих ее семантических признаков. Значения признаков бинарны, т.е. глагол характеризуется либо положительным, либо отрицателным значением признака.\n",
    "Эмпирически установлен следующий набор признаков:\n",
    "* *инкрементальность (последовательность вовлечения объекта в ситуацию)*\n",
    "* *принадлежность к морфемно характеризованным способам действия*\n",
    "* *семантика поглощения (\"ингестивные\" глаголы)*\n",
    "* *семантика приготовления/обработки*\n",
    "* *семантика передачи/перемещения*\n",
    "* *экспериенциальная семантика (получение опыта)*\n",
    "* *большое количество объекта*\n",
    "* *экспрессивное/переносное значение*\n",
    "\n",
    "    Признаки не являются взаимоисключающими, т.е. один глагол может характеризоваться положительным значением нескольких признаков.\n",
    "\n",
    "3. Подсчет случаев употребления глагола с родительным и винительным падежами в основном подкорпусе [Национального корпуса русского языка](https://ruscorpora.ru/). В таблицу с данными вошли только глаголы, для которых в корпусе обнаружены примеры употребления хотя бы с одной падежной формой.\n",
    "\n",
    "\n",
    "**Задачи исследования**\n",
    "1) установление круга глагольных лексем, способных к употреблению с родительным партитивным и составление перечня характеризующих их признаков;\n",
    "2) выявление признаков/комбинаций признаков, определяющих предпочтительный выбор аккузативного или генитивного объекта при возможности вариативного управления"
   ]
  },
  {
   "cell_type": "markdown",
   "metadata": {
    "id": "u3TcZBsnQprB"
   },
   "source": [
    "## Загрузка и обзор данных"
   ]
  },
  {
   "cell_type": "markdown",
   "metadata": {
    "id": "3TDXt-6ZQprB"
   },
   "source": [
    "Импортируем необходимые библиотеки и модули."
   ]
  },
  {
   "cell_type": "code",
   "execution_count": 1,
   "metadata": {
    "id": "fkaatjdIQprB"
   },
   "outputs": [],
   "source": [
    "import pandas as pd\n",
    "import numpy as np\n",
    "import scipy.stats as stats\n",
    "import matplotlib.pyplot as plt\n",
    "import requests\n",
    "from urllib.parse import urlencode\n",
    "import warnings\n",
    "\n",
    "warnings.filterwarnings('ignore')"
   ]
  },
  {
   "cell_type": "markdown",
   "metadata": {
    "id": "u_P568PpQprC"
   },
   "source": [
    "Csv-файл с данными размещен на Яндекс.Диске. Зададим путь к файлу и прочитаем его."
   ]
  },
  {
   "cell_type": "code",
   "execution_count": 2,
   "metadata": {
    "id": "6B19xUrXQprC"
   },
   "outputs": [],
   "source": [
    "base_url = 'https://cloud-api.yandex.net/v1/disk/public/resources/download?'\n",
    "public_key = 'https://disk.yandex.ru/d/IFpLGfAeYadkDA'\n",
    "final_url = base_url + urlencode(dict(public_key=public_key))\n",
    "response = requests.get(final_url)\n",
    "download_url = response.json()['href']\n",
    "\n",
    "download_response = requests.get(download_url)\n",
    "data = pd.read_csv(download_url)"
   ]
  },
  {
   "cell_type": "markdown",
   "metadata": {
    "id": "NNiWtF1pQprC"
   },
   "source": [
    "Выведем несколько случайных строк датафрейма."
   ]
  },
  {
   "cell_type": "code",
   "execution_count": 3,
   "metadata": {
    "colab": {
     "base_uri": "https://localhost:8080/",
     "height": 921
    },
    "id": "JqU-qyyDQprC",
    "outputId": "232d00fb-2dfa-47df-c25c-9261aa0047ac"
   },
   "outputs": [
    {
     "data": {
      "text/html": [
       "\n",
       "  <div id=\"df-d3e45a92-16d8-41b2-92ab-d098904ef55f\" class=\"colab-df-container\">\n",
       "    <div>\n",
       "<style scoped>\n",
       "    .dataframe tbody tr th:only-of-type {\n",
       "        vertical-align: middle;\n",
       "    }\n",
       "\n",
       "    .dataframe tbody tr th {\n",
       "        vertical-align: top;\n",
       "    }\n",
       "\n",
       "    .dataframe thead th {\n",
       "        text-align: right;\n",
       "    }\n",
       "</style>\n",
       "<table border=\"1\" class=\"dataframe\">\n",
       "  <thead>\n",
       "    <tr style=\"text-align: right;\">\n",
       "      <th></th>\n",
       "      <th>лексема</th>\n",
       "      <th>толкование</th>\n",
       "      <th>РП</th>\n",
       "      <th>ВП</th>\n",
       "      <th>инкрементальность</th>\n",
       "      <th>ингестивный</th>\n",
       "      <th>приготовление/обработка</th>\n",
       "      <th>передача/перемещение</th>\n",
       "      <th>экспериенциальность</th>\n",
       "      <th>большое количество объекта</th>\n",
       "      <th>экспресссивное/переносное значение</th>\n",
       "      <th>СД</th>\n",
       "    </tr>\n",
       "  </thead>\n",
       "  <tbody>\n",
       "    <tr>\n",
       "      <th>216</th>\n",
       "      <td>наплести (1)</td>\n",
       "      <td>Изготовить плетением в каком-л. количестве.</td>\n",
       "      <td>10</td>\n",
       "      <td>0</td>\n",
       "      <td>1.0</td>\n",
       "      <td>NaN</td>\n",
       "      <td>1.0</td>\n",
       "      <td>NaN</td>\n",
       "      <td>NaN</td>\n",
       "      <td>1.0</td>\n",
       "      <td>NaN</td>\n",
       "      <td>1.0</td>\n",
       "    </tr>\n",
       "    <tr>\n",
       "      <th>348</th>\n",
       "      <td>подработать</td>\n",
       "      <td>(что и чего) и без доп. Заработать дополнительно.</td>\n",
       "      <td>6</td>\n",
       "      <td>1</td>\n",
       "      <td>NaN</td>\n",
       "      <td>NaN</td>\n",
       "      <td>NaN</td>\n",
       "      <td>NaN</td>\n",
       "      <td>NaN</td>\n",
       "      <td>NaN</td>\n",
       "      <td>NaN</td>\n",
       "      <td>1.0</td>\n",
       "    </tr>\n",
       "    <tr>\n",
       "      <th>53</th>\n",
       "      <td>набить (9)</td>\n",
       "      <td>Разбить в каком-л. количестве.</td>\n",
       "      <td>2</td>\n",
       "      <td>0</td>\n",
       "      <td>1.0</td>\n",
       "      <td>NaN</td>\n",
       "      <td>NaN</td>\n",
       "      <td>NaN</td>\n",
       "      <td>NaN</td>\n",
       "      <td>1.0</td>\n",
       "      <td>NaN</td>\n",
       "      <td>1.0</td>\n",
       "    </tr>\n",
       "    <tr>\n",
       "      <th>252</th>\n",
       "      <td>насмолить</td>\n",
       "      <td>Смоля, изготовить в каком-л. количестве.</td>\n",
       "      <td>1</td>\n",
       "      <td>0</td>\n",
       "      <td>1.0</td>\n",
       "      <td>NaN</td>\n",
       "      <td>NaN</td>\n",
       "      <td>NaN</td>\n",
       "      <td>NaN</td>\n",
       "      <td>1.0</td>\n",
       "      <td>NaN</td>\n",
       "      <td>1.0</td>\n",
       "    </tr>\n",
       "    <tr>\n",
       "      <th>108</th>\n",
       "      <td>нагулять</td>\n",
       "      <td>Кормясь на пастбище, приобрести тучность, жир,...</td>\n",
       "      <td>13</td>\n",
       "      <td>9</td>\n",
       "      <td>1.0</td>\n",
       "      <td>NaN</td>\n",
       "      <td>NaN</td>\n",
       "      <td>NaN</td>\n",
       "      <td>NaN</td>\n",
       "      <td>1.0</td>\n",
       "      <td>NaN</td>\n",
       "      <td>1.0</td>\n",
       "    </tr>\n",
       "    <tr>\n",
       "      <th>318</th>\n",
       "      <td>наштамповать</td>\n",
       "      <td>Изготовить штамповкой в каком-л. количестве.</td>\n",
       "      <td>2</td>\n",
       "      <td>1</td>\n",
       "      <td>1.0</td>\n",
       "      <td>NaN</td>\n",
       "      <td>NaN</td>\n",
       "      <td>NaN</td>\n",
       "      <td>NaN</td>\n",
       "      <td>1.0</td>\n",
       "      <td>NaN</td>\n",
       "      <td>1.0</td>\n",
       "    </tr>\n",
       "    <tr>\n",
       "      <th>369</th>\n",
       "      <td>приработать</td>\n",
       "      <td>(что и чего). Разг. Заработать немного в допол...</td>\n",
       "      <td>1</td>\n",
       "      <td>0</td>\n",
       "      <td>1.0</td>\n",
       "      <td>NaN</td>\n",
       "      <td>NaN</td>\n",
       "      <td>NaN</td>\n",
       "      <td>NaN</td>\n",
       "      <td>NaN</td>\n",
       "      <td>NaN</td>\n",
       "      <td>1.0</td>\n",
       "    </tr>\n",
       "    <tr>\n",
       "      <th>448</th>\n",
       "      <td>скопить</td>\n",
       "      <td>Сберегая, собрать; накопить.</td>\n",
       "      <td>92</td>\n",
       "      <td>179</td>\n",
       "      <td>1.0</td>\n",
       "      <td>NaN</td>\n",
       "      <td>NaN</td>\n",
       "      <td>NaN</td>\n",
       "      <td>NaN</td>\n",
       "      <td>NaN</td>\n",
       "      <td>NaN</td>\n",
       "      <td>NaN</td>\n",
       "    </tr>\n",
       "    <tr>\n",
       "      <th>98</th>\n",
       "      <td>нагородить (1)</td>\n",
       "      <td>Построить, поставить что-л. в большом количест...</td>\n",
       "      <td>5</td>\n",
       "      <td>4</td>\n",
       "      <td>1.0</td>\n",
       "      <td>NaN</td>\n",
       "      <td>NaN</td>\n",
       "      <td>NaN</td>\n",
       "      <td>NaN</td>\n",
       "      <td>1.0</td>\n",
       "      <td>1.0</td>\n",
       "      <td>1.0</td>\n",
       "    </tr>\n",
       "    <tr>\n",
       "      <th>433</th>\n",
       "      <td>испить (1)</td>\n",
       "      <td>Выпить, отпить немного; попить.</td>\n",
       "      <td>257</td>\n",
       "      <td>24</td>\n",
       "      <td>1.0</td>\n",
       "      <td>1.0</td>\n",
       "      <td>NaN</td>\n",
       "      <td>NaN</td>\n",
       "      <td>NaN</td>\n",
       "      <td>NaN</td>\n",
       "      <td>NaN</td>\n",
       "      <td>NaN</td>\n",
       "    </tr>\n",
       "  </tbody>\n",
       "</table>\n",
       "</div>\n",
       "    <div class=\"colab-df-buttons\">\n",
       "\n",
       "  <div class=\"colab-df-container\">\n",
       "    <button class=\"colab-df-convert\" onclick=\"convertToInteractive('df-d3e45a92-16d8-41b2-92ab-d098904ef55f')\"\n",
       "            title=\"Convert this dataframe to an interactive table.\"\n",
       "            style=\"display:none;\">\n",
       "\n",
       "  <svg xmlns=\"http://www.w3.org/2000/svg\" height=\"24px\" viewBox=\"0 -960 960 960\">\n",
       "    <path d=\"M120-120v-720h720v720H120Zm60-500h600v-160H180v160Zm220 220h160v-160H400v160Zm0 220h160v-160H400v160ZM180-400h160v-160H180v160Zm440 0h160v-160H620v160ZM180-180h160v-160H180v160Zm440 0h160v-160H620v160Z\"/>\n",
       "  </svg>\n",
       "    </button>\n",
       "\n",
       "  <style>\n",
       "    .colab-df-container {\n",
       "      display:flex;\n",
       "      gap: 12px;\n",
       "    }\n",
       "\n",
       "    .colab-df-convert {\n",
       "      background-color: #E8F0FE;\n",
       "      border: none;\n",
       "      border-radius: 50%;\n",
       "      cursor: pointer;\n",
       "      display: none;\n",
       "      fill: #1967D2;\n",
       "      height: 32px;\n",
       "      padding: 0 0 0 0;\n",
       "      width: 32px;\n",
       "    }\n",
       "\n",
       "    .colab-df-convert:hover {\n",
       "      background-color: #E2EBFA;\n",
       "      box-shadow: 0px 1px 2px rgba(60, 64, 67, 0.3), 0px 1px 3px 1px rgba(60, 64, 67, 0.15);\n",
       "      fill: #174EA6;\n",
       "    }\n",
       "\n",
       "    .colab-df-buttons div {\n",
       "      margin-bottom: 4px;\n",
       "    }\n",
       "\n",
       "    [theme=dark] .colab-df-convert {\n",
       "      background-color: #3B4455;\n",
       "      fill: #D2E3FC;\n",
       "    }\n",
       "\n",
       "    [theme=dark] .colab-df-convert:hover {\n",
       "      background-color: #434B5C;\n",
       "      box-shadow: 0px 1px 3px 1px rgba(0, 0, 0, 0.15);\n",
       "      filter: drop-shadow(0px 1px 2px rgba(0, 0, 0, 0.3));\n",
       "      fill: #FFFFFF;\n",
       "    }\n",
       "  </style>\n",
       "\n",
       "    <script>\n",
       "      const buttonEl =\n",
       "        document.querySelector('#df-d3e45a92-16d8-41b2-92ab-d098904ef55f button.colab-df-convert');\n",
       "      buttonEl.style.display =\n",
       "        google.colab.kernel.accessAllowed ? 'block' : 'none';\n",
       "\n",
       "      async function convertToInteractive(key) {\n",
       "        const element = document.querySelector('#df-d3e45a92-16d8-41b2-92ab-d098904ef55f');\n",
       "        const dataTable =\n",
       "          await google.colab.kernel.invokeFunction('convertToInteractive',\n",
       "                                                    [key], {});\n",
       "        if (!dataTable) return;\n",
       "\n",
       "        const docLinkHtml = 'Like what you see? Visit the ' +\n",
       "          '<a target=\"_blank\" href=https://colab.research.google.com/notebooks/data_table.ipynb>data table notebook</a>'\n",
       "          + ' to learn more about interactive tables.';\n",
       "        element.innerHTML = '';\n",
       "        dataTable['output_type'] = 'display_data';\n",
       "        await google.colab.output.renderOutput(dataTable, element);\n",
       "        const docLink = document.createElement('div');\n",
       "        docLink.innerHTML = docLinkHtml;\n",
       "        element.appendChild(docLink);\n",
       "      }\n",
       "    </script>\n",
       "  </div>\n",
       "\n",
       "\n",
       "<div id=\"df-b93231a4-3d56-4dc4-9a36-0eb4ddd8c326\">\n",
       "  <button class=\"colab-df-quickchart\" onclick=\"quickchart('df-b93231a4-3d56-4dc4-9a36-0eb4ddd8c326')\"\n",
       "            title=\"Suggest charts\"\n",
       "            style=\"display:none;\">\n",
       "\n",
       "<svg xmlns=\"http://www.w3.org/2000/svg\" height=\"24px\"viewBox=\"0 0 24 24\"\n",
       "     width=\"24px\">\n",
       "    <g>\n",
       "        <path d=\"M19 3H5c-1.1 0-2 .9-2 2v14c0 1.1.9 2 2 2h14c1.1 0 2-.9 2-2V5c0-1.1-.9-2-2-2zM9 17H7v-7h2v7zm4 0h-2V7h2v10zm4 0h-2v-4h2v4z\"/>\n",
       "    </g>\n",
       "</svg>\n",
       "  </button>\n",
       "\n",
       "<style>\n",
       "  .colab-df-quickchart {\n",
       "      --bg-color: #E8F0FE;\n",
       "      --fill-color: #1967D2;\n",
       "      --hover-bg-color: #E2EBFA;\n",
       "      --hover-fill-color: #174EA6;\n",
       "      --disabled-fill-color: #AAA;\n",
       "      --disabled-bg-color: #DDD;\n",
       "  }\n",
       "\n",
       "  [theme=dark] .colab-df-quickchart {\n",
       "      --bg-color: #3B4455;\n",
       "      --fill-color: #D2E3FC;\n",
       "      --hover-bg-color: #434B5C;\n",
       "      --hover-fill-color: #FFFFFF;\n",
       "      --disabled-bg-color: #3B4455;\n",
       "      --disabled-fill-color: #666;\n",
       "  }\n",
       "\n",
       "  .colab-df-quickchart {\n",
       "    background-color: var(--bg-color);\n",
       "    border: none;\n",
       "    border-radius: 50%;\n",
       "    cursor: pointer;\n",
       "    display: none;\n",
       "    fill: var(--fill-color);\n",
       "    height: 32px;\n",
       "    padding: 0;\n",
       "    width: 32px;\n",
       "  }\n",
       "\n",
       "  .colab-df-quickchart:hover {\n",
       "    background-color: var(--hover-bg-color);\n",
       "    box-shadow: 0 1px 2px rgba(60, 64, 67, 0.3), 0 1px 3px 1px rgba(60, 64, 67, 0.15);\n",
       "    fill: var(--button-hover-fill-color);\n",
       "  }\n",
       "\n",
       "  .colab-df-quickchart-complete:disabled,\n",
       "  .colab-df-quickchart-complete:disabled:hover {\n",
       "    background-color: var(--disabled-bg-color);\n",
       "    fill: var(--disabled-fill-color);\n",
       "    box-shadow: none;\n",
       "  }\n",
       "\n",
       "  .colab-df-spinner {\n",
       "    border: 2px solid var(--fill-color);\n",
       "    border-color: transparent;\n",
       "    border-bottom-color: var(--fill-color);\n",
       "    animation:\n",
       "      spin 1s steps(1) infinite;\n",
       "  }\n",
       "\n",
       "  @keyframes spin {\n",
       "    0% {\n",
       "      border-color: transparent;\n",
       "      border-bottom-color: var(--fill-color);\n",
       "      border-left-color: var(--fill-color);\n",
       "    }\n",
       "    20% {\n",
       "      border-color: transparent;\n",
       "      border-left-color: var(--fill-color);\n",
       "      border-top-color: var(--fill-color);\n",
       "    }\n",
       "    30% {\n",
       "      border-color: transparent;\n",
       "      border-left-color: var(--fill-color);\n",
       "      border-top-color: var(--fill-color);\n",
       "      border-right-color: var(--fill-color);\n",
       "    }\n",
       "    40% {\n",
       "      border-color: transparent;\n",
       "      border-right-color: var(--fill-color);\n",
       "      border-top-color: var(--fill-color);\n",
       "    }\n",
       "    60% {\n",
       "      border-color: transparent;\n",
       "      border-right-color: var(--fill-color);\n",
       "    }\n",
       "    80% {\n",
       "      border-color: transparent;\n",
       "      border-right-color: var(--fill-color);\n",
       "      border-bottom-color: var(--fill-color);\n",
       "    }\n",
       "    90% {\n",
       "      border-color: transparent;\n",
       "      border-bottom-color: var(--fill-color);\n",
       "    }\n",
       "  }\n",
       "</style>\n",
       "\n",
       "  <script>\n",
       "    async function quickchart(key) {\n",
       "      const quickchartButtonEl =\n",
       "        document.querySelector('#' + key + ' button');\n",
       "      quickchartButtonEl.disabled = true;  // To prevent multiple clicks.\n",
       "      quickchartButtonEl.classList.add('colab-df-spinner');\n",
       "      try {\n",
       "        const charts = await google.colab.kernel.invokeFunction(\n",
       "            'suggestCharts', [key], {});\n",
       "      } catch (error) {\n",
       "        console.error('Error during call to suggestCharts:', error);\n",
       "      }\n",
       "      quickchartButtonEl.classList.remove('colab-df-spinner');\n",
       "      quickchartButtonEl.classList.add('colab-df-quickchart-complete');\n",
       "    }\n",
       "    (() => {\n",
       "      let quickchartButtonEl =\n",
       "        document.querySelector('#df-b93231a4-3d56-4dc4-9a36-0eb4ddd8c326 button');\n",
       "      quickchartButtonEl.style.display =\n",
       "        google.colab.kernel.accessAllowed ? 'block' : 'none';\n",
       "    })();\n",
       "  </script>\n",
       "</div>\n",
       "    </div>\n",
       "  </div>\n"
      ],
      "text/plain": [
       "            лексема                                         толкование   РП  \\\n",
       "216    наплести (1)        Изготовить плетением в каком-л. количестве.   10   \n",
       "348     подработать  (что и чего) и без доп. Заработать дополнительно.    6   \n",
       "53       набить (9)                     Разбить в каком-л. количестве.    2   \n",
       "252       насмолить           Смоля, изготовить в каком-л. количестве.    1   \n",
       "108        нагулять  Кормясь на пастбище, приобрести тучность, жир,...   13   \n",
       "318    наштамповать       Изготовить штамповкой в каком-л. количестве.    2   \n",
       "369     приработать  (что и чего). Разг. Заработать немного в допол...    1   \n",
       "448         скопить                       Сберегая, собрать; накопить.   92   \n",
       "98   нагородить (1)  Построить, поставить что-л. в большом количест...    5   \n",
       "433      испить (1)                    Выпить, отпить немного; попить.  257   \n",
       "\n",
       "      ВП  инкрементальность  ингестивный  приготовление/обработка  \\\n",
       "216    0                1.0          NaN                      1.0   \n",
       "348    1                NaN          NaN                      NaN   \n",
       "53     0                1.0          NaN                      NaN   \n",
       "252    0                1.0          NaN                      NaN   \n",
       "108    9                1.0          NaN                      NaN   \n",
       "318    1                1.0          NaN                      NaN   \n",
       "369    0                1.0          NaN                      NaN   \n",
       "448  179                1.0          NaN                      NaN   \n",
       "98     4                1.0          NaN                      NaN   \n",
       "433   24                1.0          1.0                      NaN   \n",
       "\n",
       "     передача/перемещение  экспериенциальность  большое количество объекта  \\\n",
       "216                   NaN                  NaN                         1.0   \n",
       "348                   NaN                  NaN                         NaN   \n",
       "53                    NaN                  NaN                         1.0   \n",
       "252                   NaN                  NaN                         1.0   \n",
       "108                   NaN                  NaN                         1.0   \n",
       "318                   NaN                  NaN                         1.0   \n",
       "369                   NaN                  NaN                         NaN   \n",
       "448                   NaN                  NaN                         NaN   \n",
       "98                    NaN                  NaN                         1.0   \n",
       "433                   NaN                  NaN                         NaN   \n",
       "\n",
       "     экспресссивное/переносное значение   СД  \n",
       "216                                 NaN  1.0  \n",
       "348                                 NaN  1.0  \n",
       "53                                  NaN  1.0  \n",
       "252                                 NaN  1.0  \n",
       "108                                 NaN  1.0  \n",
       "318                                 NaN  1.0  \n",
       "369                                 NaN  1.0  \n",
       "448                                 NaN  NaN  \n",
       "98                                  1.0  1.0  \n",
       "433                                 NaN  NaN  "
      ]
     },
     "execution_count": 3,
     "metadata": {},
     "output_type": "execute_result"
    }
   ],
   "source": [
    "data.sample(10)"
   ]
  },
  {
   "cell_type": "markdown",
   "metadata": {
    "id": "CmWOM4ThQprC"
   },
   "source": [
    "Выведем информацию о датафрейме"
   ]
  },
  {
   "cell_type": "code",
   "execution_count": 4,
   "metadata": {
    "colab": {
     "base_uri": "https://localhost:8080/"
    },
    "id": "FFCevAqKQprD",
    "outputId": "e5806ff9-ec3c-4e88-f4d7-dc4374c5919b"
   },
   "outputs": [
    {
     "name": "stdout",
     "output_type": "stream",
     "text": [
      "<class 'pandas.core.frame.DataFrame'>\n",
      "RangeIndex: 460 entries, 0 to 459\n",
      "Data columns (total 12 columns):\n",
      " #   Column                              Non-Null Count  Dtype  \n",
      "---  ------                              --------------  -----  \n",
      " 0   лексема                             460 non-null    object \n",
      " 1   толкование                          460 non-null    object \n",
      " 2   РП                                  460 non-null    int64  \n",
      " 3   ВП                                  460 non-null    int64  \n",
      " 4   инкрементальность                   421 non-null    float64\n",
      " 5   ингестивный                         51 non-null     float64\n",
      " 6   приготовление/обработка             46 non-null     float64\n",
      " 7   передача/перемещение                57 non-null     float64\n",
      " 8   экспериенциальность                 5 non-null      float64\n",
      " 9   большое количество объекта          252 non-null    float64\n",
      " 10  экспресссивное/переносное значение  46 non-null     float64\n",
      " 11  СД                                  400 non-null    float64\n",
      "dtypes: float64(8), int64(2), object(2)\n",
      "memory usage: 43.2+ KB\n"
     ]
    }
   ],
   "source": [
    "data.info()"
   ]
  },
  {
   "cell_type": "markdown",
   "metadata": {
    "id": "T2H6ziQSQprD"
   },
   "source": [
    "В таблице всего 460 строк, то есть содержится информация о 460 глаголах. Есть пропуски в значениях признаков. Поскольку признаки бинарны и принимают либо положительное, либо отрицательное значение, все пропуски означают отрицательное значение признаков. Заполним пропуски нулями. Также переведем значения признаков в целочисленный формат."
   ]
  },
  {
   "cell_type": "code",
   "execution_count": 5,
   "metadata": {
    "id": "dLWXE5UwQprD"
   },
   "outputs": [],
   "source": [
    "data = data.fillna(0)"
   ]
  },
  {
   "cell_type": "code",
   "execution_count": 6,
   "metadata": {
    "id": "6ZqhlRZ5QprD"
   },
   "outputs": [],
   "source": [
    "data[\n",
    "    ['инкрементальность',\n",
    "      'ингестивный',\n",
    "      'приготовление/обработка',\n",
    "      'передача/перемещение',\n",
    "      'экспериенциальность',\n",
    "      'большое количество объекта',\n",
    "      'экспресссивное/переносное значение',\n",
    "      'СД']\n",
    "]  = data[\n",
    "    ['инкрементальность',\n",
    "      'ингестивный',\n",
    "      'приготовление/обработка',\n",
    "      'передача/перемещение',\n",
    "      'экспериенциальность',\n",
    "      'большое количество объекта',\n",
    "      'экспресссивное/переносное значение',\n",
    "      'СД']\n",
    "].astype(int)"
   ]
  },
  {
   "cell_type": "markdown",
   "metadata": {
    "id": "NBlxn5KwQprD"
   },
   "source": [
    "Проверим, что получилось при заполнении пропусков. Выведем еще раз несколько строк датафрейма и информацию о нем."
   ]
  },
  {
   "cell_type": "code",
   "execution_count": 7,
   "metadata": {
    "colab": {
     "base_uri": "https://localhost:8080/",
     "height": 921
    },
    "id": "YszJWwT5QprD",
    "outputId": "9fa175c2-ad0d-4067-ca03-10659fd84723",
    "scrolled": true
   },
   "outputs": [
    {
     "data": {
      "text/html": [
       "\n",
       "  <div id=\"df-d0142546-e404-496f-94ac-38bc038f2b84\" class=\"colab-df-container\">\n",
       "    <div>\n",
       "<style scoped>\n",
       "    .dataframe tbody tr th:only-of-type {\n",
       "        vertical-align: middle;\n",
       "    }\n",
       "\n",
       "    .dataframe tbody tr th {\n",
       "        vertical-align: top;\n",
       "    }\n",
       "\n",
       "    .dataframe thead th {\n",
       "        text-align: right;\n",
       "    }\n",
       "</style>\n",
       "<table border=\"1\" class=\"dataframe\">\n",
       "  <thead>\n",
       "    <tr style=\"text-align: right;\">\n",
       "      <th></th>\n",
       "      <th>лексема</th>\n",
       "      <th>толкование</th>\n",
       "      <th>РП</th>\n",
       "      <th>ВП</th>\n",
       "      <th>инкрементальность</th>\n",
       "      <th>ингестивный</th>\n",
       "      <th>приготовление/обработка</th>\n",
       "      <th>передача/перемещение</th>\n",
       "      <th>экспериенциальность</th>\n",
       "      <th>большое количество объекта</th>\n",
       "      <th>экспресссивное/переносное значение</th>\n",
       "      <th>СД</th>\n",
       "    </tr>\n",
       "  </thead>\n",
       "  <tbody>\n",
       "    <tr>\n",
       "      <th>449</th>\n",
       "      <td>скушать</td>\n",
       "      <td>Употребить в пищу, съесть (употребляется при в...</td>\n",
       "      <td>22</td>\n",
       "      <td>50</td>\n",
       "      <td>1</td>\n",
       "      <td>1</td>\n",
       "      <td>0</td>\n",
       "      <td>0</td>\n",
       "      <td>0</td>\n",
       "      <td>0</td>\n",
       "      <td>0</td>\n",
       "      <td>0</td>\n",
       "    </tr>\n",
       "    <tr>\n",
       "      <th>377</th>\n",
       "      <td>добрать</td>\n",
       "      <td>Окончить собирание чего-л.</td>\n",
       "      <td>7</td>\n",
       "      <td>7</td>\n",
       "      <td>1</td>\n",
       "      <td>0</td>\n",
       "      <td>0</td>\n",
       "      <td>0</td>\n",
       "      <td>0</td>\n",
       "      <td>0</td>\n",
       "      <td>0</td>\n",
       "      <td>1</td>\n",
       "    </tr>\n",
       "    <tr>\n",
       "      <th>32</th>\n",
       "      <td>порубить</td>\n",
       "      <td>Нарубить в некотором количестве.</td>\n",
       "      <td>8</td>\n",
       "      <td>15</td>\n",
       "      <td>1</td>\n",
       "      <td>0</td>\n",
       "      <td>1</td>\n",
       "      <td>0</td>\n",
       "      <td>0</td>\n",
       "      <td>0</td>\n",
       "      <td>0</td>\n",
       "      <td>1</td>\n",
       "    </tr>\n",
       "    <tr>\n",
       "      <th>237</th>\n",
       "      <td>нарыть (1)</td>\n",
       "      <td>Роя, сделать (углубления в земле) в каком-л. к...</td>\n",
       "      <td>20</td>\n",
       "      <td>2</td>\n",
       "      <td>1</td>\n",
       "      <td>0</td>\n",
       "      <td>0</td>\n",
       "      <td>0</td>\n",
       "      <td>0</td>\n",
       "      <td>1</td>\n",
       "      <td>0</td>\n",
       "      <td>1</td>\n",
       "    </tr>\n",
       "    <tr>\n",
       "      <th>188</th>\n",
       "      <td>наморить (1)</td>\n",
       "      <td>Моря, истребить в каком-л. количестве.</td>\n",
       "      <td>0</td>\n",
       "      <td>1</td>\n",
       "      <td>1</td>\n",
       "      <td>0</td>\n",
       "      <td>0</td>\n",
       "      <td>0</td>\n",
       "      <td>0</td>\n",
       "      <td>1</td>\n",
       "      <td>0</td>\n",
       "      <td>1</td>\n",
       "    </tr>\n",
       "    <tr>\n",
       "      <th>384</th>\n",
       "      <td>долить</td>\n",
       "      <td>Добавить, наливая до какого-л. предела.</td>\n",
       "      <td>52</td>\n",
       "      <td>17</td>\n",
       "      <td>1</td>\n",
       "      <td>0</td>\n",
       "      <td>0</td>\n",
       "      <td>1</td>\n",
       "      <td>0</td>\n",
       "      <td>0</td>\n",
       "      <td>0</td>\n",
       "      <td>1</td>\n",
       "    </tr>\n",
       "    <tr>\n",
       "      <th>443</th>\n",
       "      <td>перехватить (7)</td>\n",
       "      <td>Наскоро съесть чего-л.; перекусить.</td>\n",
       "      <td>21</td>\n",
       "      <td>3</td>\n",
       "      <td>1</td>\n",
       "      <td>1</td>\n",
       "      <td>0</td>\n",
       "      <td>0</td>\n",
       "      <td>0</td>\n",
       "      <td>0</td>\n",
       "      <td>0</td>\n",
       "      <td>0</td>\n",
       "    </tr>\n",
       "    <tr>\n",
       "      <th>67</th>\n",
       "      <td>наварить (2)</td>\n",
       "      <td>Изготовить в каком-л. количестве посредством в...</td>\n",
       "      <td>1</td>\n",
       "      <td>0</td>\n",
       "      <td>1</td>\n",
       "      <td>0</td>\n",
       "      <td>0</td>\n",
       "      <td>0</td>\n",
       "      <td>0</td>\n",
       "      <td>1</td>\n",
       "      <td>0</td>\n",
       "      <td>1</td>\n",
       "    </tr>\n",
       "    <tr>\n",
       "      <th>97</th>\n",
       "      <td>нагнуть</td>\n",
       "      <td>Изготовить гнутьем в каком-л. количестве.</td>\n",
       "      <td>2</td>\n",
       "      <td>0</td>\n",
       "      <td>1</td>\n",
       "      <td>0</td>\n",
       "      <td>0</td>\n",
       "      <td>0</td>\n",
       "      <td>0</td>\n",
       "      <td>1</td>\n",
       "      <td>0</td>\n",
       "      <td>1</td>\n",
       "    </tr>\n",
       "    <tr>\n",
       "      <th>129</th>\n",
       "      <td>назвать2</td>\n",
       "      <td>Созвать, пригласить в каком-л. (обычно большом...</td>\n",
       "      <td>2</td>\n",
       "      <td>0</td>\n",
       "      <td>1</td>\n",
       "      <td>0</td>\n",
       "      <td>0</td>\n",
       "      <td>0</td>\n",
       "      <td>0</td>\n",
       "      <td>1</td>\n",
       "      <td>0</td>\n",
       "      <td>1</td>\n",
       "    </tr>\n",
       "  </tbody>\n",
       "</table>\n",
       "</div>\n",
       "    <div class=\"colab-df-buttons\">\n",
       "\n",
       "  <div class=\"colab-df-container\">\n",
       "    <button class=\"colab-df-convert\" onclick=\"convertToInteractive('df-d0142546-e404-496f-94ac-38bc038f2b84')\"\n",
       "            title=\"Convert this dataframe to an interactive table.\"\n",
       "            style=\"display:none;\">\n",
       "\n",
       "  <svg xmlns=\"http://www.w3.org/2000/svg\" height=\"24px\" viewBox=\"0 -960 960 960\">\n",
       "    <path d=\"M120-120v-720h720v720H120Zm60-500h600v-160H180v160Zm220 220h160v-160H400v160Zm0 220h160v-160H400v160ZM180-400h160v-160H180v160Zm440 0h160v-160H620v160ZM180-180h160v-160H180v160Zm440 0h160v-160H620v160Z\"/>\n",
       "  </svg>\n",
       "    </button>\n",
       "\n",
       "  <style>\n",
       "    .colab-df-container {\n",
       "      display:flex;\n",
       "      gap: 12px;\n",
       "    }\n",
       "\n",
       "    .colab-df-convert {\n",
       "      background-color: #E8F0FE;\n",
       "      border: none;\n",
       "      border-radius: 50%;\n",
       "      cursor: pointer;\n",
       "      display: none;\n",
       "      fill: #1967D2;\n",
       "      height: 32px;\n",
       "      padding: 0 0 0 0;\n",
       "      width: 32px;\n",
       "    }\n",
       "\n",
       "    .colab-df-convert:hover {\n",
       "      background-color: #E2EBFA;\n",
       "      box-shadow: 0px 1px 2px rgba(60, 64, 67, 0.3), 0px 1px 3px 1px rgba(60, 64, 67, 0.15);\n",
       "      fill: #174EA6;\n",
       "    }\n",
       "\n",
       "    .colab-df-buttons div {\n",
       "      margin-bottom: 4px;\n",
       "    }\n",
       "\n",
       "    [theme=dark] .colab-df-convert {\n",
       "      background-color: #3B4455;\n",
       "      fill: #D2E3FC;\n",
       "    }\n",
       "\n",
       "    [theme=dark] .colab-df-convert:hover {\n",
       "      background-color: #434B5C;\n",
       "      box-shadow: 0px 1px 3px 1px rgba(0, 0, 0, 0.15);\n",
       "      filter: drop-shadow(0px 1px 2px rgba(0, 0, 0, 0.3));\n",
       "      fill: #FFFFFF;\n",
       "    }\n",
       "  </style>\n",
       "\n",
       "    <script>\n",
       "      const buttonEl =\n",
       "        document.querySelector('#df-d0142546-e404-496f-94ac-38bc038f2b84 button.colab-df-convert');\n",
       "      buttonEl.style.display =\n",
       "        google.colab.kernel.accessAllowed ? 'block' : 'none';\n",
       "\n",
       "      async function convertToInteractive(key) {\n",
       "        const element = document.querySelector('#df-d0142546-e404-496f-94ac-38bc038f2b84');\n",
       "        const dataTable =\n",
       "          await google.colab.kernel.invokeFunction('convertToInteractive',\n",
       "                                                    [key], {});\n",
       "        if (!dataTable) return;\n",
       "\n",
       "        const docLinkHtml = 'Like what you see? Visit the ' +\n",
       "          '<a target=\"_blank\" href=https://colab.research.google.com/notebooks/data_table.ipynb>data table notebook</a>'\n",
       "          + ' to learn more about interactive tables.';\n",
       "        element.innerHTML = '';\n",
       "        dataTable['output_type'] = 'display_data';\n",
       "        await google.colab.output.renderOutput(dataTable, element);\n",
       "        const docLink = document.createElement('div');\n",
       "        docLink.innerHTML = docLinkHtml;\n",
       "        element.appendChild(docLink);\n",
       "      }\n",
       "    </script>\n",
       "  </div>\n",
       "\n",
       "\n",
       "<div id=\"df-41545e05-1b31-43a8-b7f5-288f2c88d2e8\">\n",
       "  <button class=\"colab-df-quickchart\" onclick=\"quickchart('df-41545e05-1b31-43a8-b7f5-288f2c88d2e8')\"\n",
       "            title=\"Suggest charts\"\n",
       "            style=\"display:none;\">\n",
       "\n",
       "<svg xmlns=\"http://www.w3.org/2000/svg\" height=\"24px\"viewBox=\"0 0 24 24\"\n",
       "     width=\"24px\">\n",
       "    <g>\n",
       "        <path d=\"M19 3H5c-1.1 0-2 .9-2 2v14c0 1.1.9 2 2 2h14c1.1 0 2-.9 2-2V5c0-1.1-.9-2-2-2zM9 17H7v-7h2v7zm4 0h-2V7h2v10zm4 0h-2v-4h2v4z\"/>\n",
       "    </g>\n",
       "</svg>\n",
       "  </button>\n",
       "\n",
       "<style>\n",
       "  .colab-df-quickchart {\n",
       "      --bg-color: #E8F0FE;\n",
       "      --fill-color: #1967D2;\n",
       "      --hover-bg-color: #E2EBFA;\n",
       "      --hover-fill-color: #174EA6;\n",
       "      --disabled-fill-color: #AAA;\n",
       "      --disabled-bg-color: #DDD;\n",
       "  }\n",
       "\n",
       "  [theme=dark] .colab-df-quickchart {\n",
       "      --bg-color: #3B4455;\n",
       "      --fill-color: #D2E3FC;\n",
       "      --hover-bg-color: #434B5C;\n",
       "      --hover-fill-color: #FFFFFF;\n",
       "      --disabled-bg-color: #3B4455;\n",
       "      --disabled-fill-color: #666;\n",
       "  }\n",
       "\n",
       "  .colab-df-quickchart {\n",
       "    background-color: var(--bg-color);\n",
       "    border: none;\n",
       "    border-radius: 50%;\n",
       "    cursor: pointer;\n",
       "    display: none;\n",
       "    fill: var(--fill-color);\n",
       "    height: 32px;\n",
       "    padding: 0;\n",
       "    width: 32px;\n",
       "  }\n",
       "\n",
       "  .colab-df-quickchart:hover {\n",
       "    background-color: var(--hover-bg-color);\n",
       "    box-shadow: 0 1px 2px rgba(60, 64, 67, 0.3), 0 1px 3px 1px rgba(60, 64, 67, 0.15);\n",
       "    fill: var(--button-hover-fill-color);\n",
       "  }\n",
       "\n",
       "  .colab-df-quickchart-complete:disabled,\n",
       "  .colab-df-quickchart-complete:disabled:hover {\n",
       "    background-color: var(--disabled-bg-color);\n",
       "    fill: var(--disabled-fill-color);\n",
       "    box-shadow: none;\n",
       "  }\n",
       "\n",
       "  .colab-df-spinner {\n",
       "    border: 2px solid var(--fill-color);\n",
       "    border-color: transparent;\n",
       "    border-bottom-color: var(--fill-color);\n",
       "    animation:\n",
       "      spin 1s steps(1) infinite;\n",
       "  }\n",
       "\n",
       "  @keyframes spin {\n",
       "    0% {\n",
       "      border-color: transparent;\n",
       "      border-bottom-color: var(--fill-color);\n",
       "      border-left-color: var(--fill-color);\n",
       "    }\n",
       "    20% {\n",
       "      border-color: transparent;\n",
       "      border-left-color: var(--fill-color);\n",
       "      border-top-color: var(--fill-color);\n",
       "    }\n",
       "    30% {\n",
       "      border-color: transparent;\n",
       "      border-left-color: var(--fill-color);\n",
       "      border-top-color: var(--fill-color);\n",
       "      border-right-color: var(--fill-color);\n",
       "    }\n",
       "    40% {\n",
       "      border-color: transparent;\n",
       "      border-right-color: var(--fill-color);\n",
       "      border-top-color: var(--fill-color);\n",
       "    }\n",
       "    60% {\n",
       "      border-color: transparent;\n",
       "      border-right-color: var(--fill-color);\n",
       "    }\n",
       "    80% {\n",
       "      border-color: transparent;\n",
       "      border-right-color: var(--fill-color);\n",
       "      border-bottom-color: var(--fill-color);\n",
       "    }\n",
       "    90% {\n",
       "      border-color: transparent;\n",
       "      border-bottom-color: var(--fill-color);\n",
       "    }\n",
       "  }\n",
       "</style>\n",
       "\n",
       "  <script>\n",
       "    async function quickchart(key) {\n",
       "      const quickchartButtonEl =\n",
       "        document.querySelector('#' + key + ' button');\n",
       "      quickchartButtonEl.disabled = true;  // To prevent multiple clicks.\n",
       "      quickchartButtonEl.classList.add('colab-df-spinner');\n",
       "      try {\n",
       "        const charts = await google.colab.kernel.invokeFunction(\n",
       "            'suggestCharts', [key], {});\n",
       "      } catch (error) {\n",
       "        console.error('Error during call to suggestCharts:', error);\n",
       "      }\n",
       "      quickchartButtonEl.classList.remove('colab-df-spinner');\n",
       "      quickchartButtonEl.classList.add('colab-df-quickchart-complete');\n",
       "    }\n",
       "    (() => {\n",
       "      let quickchartButtonEl =\n",
       "        document.querySelector('#df-41545e05-1b31-43a8-b7f5-288f2c88d2e8 button');\n",
       "      quickchartButtonEl.style.display =\n",
       "        google.colab.kernel.accessAllowed ? 'block' : 'none';\n",
       "    })();\n",
       "  </script>\n",
       "</div>\n",
       "    </div>\n",
       "  </div>\n"
      ],
      "text/plain": [
       "             лексема                                         толкование  РП  \\\n",
       "449          скушать  Употребить в пищу, съесть (употребляется при в...  22   \n",
       "377          добрать                         Окончить собирание чего-л.   7   \n",
       "32          порубить                   Нарубить в некотором количестве.   8   \n",
       "237       нарыть (1)  Роя, сделать (углубления в земле) в каком-л. к...  20   \n",
       "188     наморить (1)             Моря, истребить в каком-л. количестве.   0   \n",
       "384           долить            Добавить, наливая до какого-л. предела.  52   \n",
       "443  перехватить (7)                Наскоро съесть чего-л.; перекусить.  21   \n",
       "67      наварить (2)  Изготовить в каком-л. количестве посредством в...   1   \n",
       "97           нагнуть          Изготовить гнутьем в каком-л. количестве.   2   \n",
       "129         назвать2  Созвать, пригласить в каком-л. (обычно большом...   2   \n",
       "\n",
       "     ВП  инкрементальность  ингестивный  приготовление/обработка  \\\n",
       "449  50                  1            1                        0   \n",
       "377   7                  1            0                        0   \n",
       "32   15                  1            0                        1   \n",
       "237   2                  1            0                        0   \n",
       "188   1                  1            0                        0   \n",
       "384  17                  1            0                        0   \n",
       "443   3                  1            1                        0   \n",
       "67    0                  1            0                        0   \n",
       "97    0                  1            0                        0   \n",
       "129   0                  1            0                        0   \n",
       "\n",
       "     передача/перемещение  экспериенциальность  большое количество объекта  \\\n",
       "449                     0                    0                           0   \n",
       "377                     0                    0                           0   \n",
       "32                      0                    0                           0   \n",
       "237                     0                    0                           1   \n",
       "188                     0                    0                           1   \n",
       "384                     1                    0                           0   \n",
       "443                     0                    0                           0   \n",
       "67                      0                    0                           1   \n",
       "97                      0                    0                           1   \n",
       "129                     0                    0                           1   \n",
       "\n",
       "     экспресссивное/переносное значение  СД  \n",
       "449                                   0   0  \n",
       "377                                   0   1  \n",
       "32                                    0   1  \n",
       "237                                   0   1  \n",
       "188                                   0   1  \n",
       "384                                   0   1  \n",
       "443                                   0   0  \n",
       "67                                    0   1  \n",
       "97                                    0   1  \n",
       "129                                   0   1  "
      ]
     },
     "execution_count": 7,
     "metadata": {},
     "output_type": "execute_result"
    }
   ],
   "source": [
    "data.sample(10)"
   ]
  },
  {
   "cell_type": "code",
   "execution_count": 8,
   "metadata": {
    "colab": {
     "base_uri": "https://localhost:8080/"
    },
    "id": "BpLU9GjkQprD",
    "outputId": "cbd45656-ee2f-49a8-ce2a-f0d5820bd079"
   },
   "outputs": [
    {
     "name": "stdout",
     "output_type": "stream",
     "text": [
      "<class 'pandas.core.frame.DataFrame'>\n",
      "RangeIndex: 460 entries, 0 to 459\n",
      "Data columns (total 12 columns):\n",
      " #   Column                              Non-Null Count  Dtype \n",
      "---  ------                              --------------  ----- \n",
      " 0   лексема                             460 non-null    object\n",
      " 1   толкование                          460 non-null    object\n",
      " 2   РП                                  460 non-null    int64 \n",
      " 3   ВП                                  460 non-null    int64 \n",
      " 4   инкрементальность                   460 non-null    int64 \n",
      " 5   ингестивный                         460 non-null    int64 \n",
      " 6   приготовление/обработка             460 non-null    int64 \n",
      " 7   передача/перемещение                460 non-null    int64 \n",
      " 8   экспериенциальность                 460 non-null    int64 \n",
      " 9   большое количество объекта          460 non-null    int64 \n",
      " 10  экспресссивное/переносное значение  460 non-null    int64 \n",
      " 11  СД                                  460 non-null    int64 \n",
      "dtypes: int64(10), object(2)\n",
      "memory usage: 43.2+ KB\n"
     ]
    }
   ],
   "source": [
    "data.info()"
   ]
  },
  {
   "cell_type": "markdown",
   "metadata": {
    "id": "KjLndfQtQprD"
   },
   "source": [
    "Пропуски заполнили, тип данных в столбцах с признаками изменили."
   ]
  },
  {
   "cell_type": "markdown",
   "metadata": {
    "id": "i7T8IHDYQprD"
   },
   "source": [
    "## Количественное соотношение род. партитивного и вин. падежей (по данным НКРЯ)"
   ]
  },
  {
   "cell_type": "markdown",
   "metadata": {
    "id": "2Gbux2uyQprD"
   },
   "source": [
    "### Тепловая карта"
   ]
  },
  {
   "cell_type": "markdown",
   "metadata": {
    "id": "ag8qIW4RQprE"
   },
   "source": [
    "В первую очередь, оценим возможную корреляцию между предпочтительным выбором род. падежа при глаголе и набором характеристик глагола."
   ]
  },
  {
   "cell_type": "markdown",
   "metadata": {
    "id": "P5I47FccQprE"
   },
   "source": [
    "Напишем функцию для оценки распределения род. и вин падежей по сравнению с суммарными данными о распределении падежных форм при всех остальных глаголах выборки при помощи критерия согласия хи-квадрат."
   ]
  },
  {
   "cell_type": "code",
   "execution_count": 9,
   "metadata": {
    "id": "px_GoSzxQprE"
   },
   "outputs": [],
   "source": [
    "def count_chi2_by_verb(verb):\n",
    "    verb_slice = data[data['лексема']==verb]\n",
    "    gen = verb_slice['РП']\n",
    "    acc = verb_slice['ВП']\n",
    "    try:\n",
    "        return stats.chi2_contingency([[gen, acc], [sum(data['РП']) - gen, sum(data['ВП']) - acc]])\n",
    "    except:\n",
    "        return (0, 1)"
   ]
  },
  {
   "cell_type": "markdown",
   "metadata": {
    "id": "EeNcRcbOQprE"
   },
   "source": [
    "Создаем список глаголов, которые демонстрируют статистически значимое различие в распределении падежных\n",
    "форм по отношению к суммарным данным (при p<0.05)."
   ]
  },
  {
   "cell_type": "code",
   "execution_count": 10,
   "metadata": {
    "colab": {
     "base_uri": "https://localhost:8080/"
    },
    "id": "QOov-vW4QprE",
    "outputId": "c10d1e81-e101-456a-84e8-9a75fb53d54a"
   },
   "outputs": [
    {
     "name": "stdout",
     "output_type": "stream",
     "text": [
      "поесть 216.031702267875 6.6375168162258374e-49\n",
      "пожарить 54.786817666647 1.343388240489966e-13\n",
      "покушать 36.307372321471284 1.6852516854077154e-09\n",
      "понабрать 8.06235881297393 0.004519430728122794\n",
      "понаделать 6.82067144869851 0.00901086835162124\n",
      "понаставить 6.96498990645383 0.008311990169713852\n",
      "понюхать (1) 30.67090242237274 3.057153869942374e-08\n",
      "понюхать (2) 12.332721835257603 0.00044508695793848556\n",
      "попить 620.2640972291567 6.551141623879297e-137\n",
      "порубить 5.539786631017686 0.01858884900703234\n",
      "посбавить 5.337054280790105 0.020876721870153\n",
      "пособирать 4.663196152642741 0.03081577758200765\n",
      "потереть 5.440371782016299 0.019676480849506177\n",
      "похлебать 78.79368847916906 6.894699119971745e-19\n",
      "почистить 55.10275540407077 1.143904331862282e-13\n",
      "набить (1, оттенок) 14.825241129959563 0.0001179462726225189\n",
      "набрать (1) 522.238588522564 1.3788255044067106e-115\n",
      "набросать 6.165675104358191 0.013025265520431475\n",
      "навалить (1) 5.66609107754878 0.01729595514124023\n",
      "навалить (2) 18.63067926664542 1.5864686901295544e-05\n",
      "навалить (3) 13.820385835486396 0.0002011419319262888\n",
      "наварить (1) 57.686675972691894 3.0737789397102713e-14\n",
      "навезти 35.58954285742913 2.43591680937405e-09\n",
      "навернуть 4.254345277817919 0.03915003651371489\n",
      "навертеть 7.774548808249926 0.0052987449275345155\n",
      "навешать 4.231969473747651 0.039669383887041824\n",
      "навозить 9.01244228590859 0.0026814786666726773\n",
      "наворовать 7.875499822412717 0.005010901969892472\n",
      "наворотить (2) 10.884334788906049 0.0009698100492899654\n",
      "наворочать 4.250861926411269 0.03923041482068316\n",
      "навязать1 (4) 7.774548808249926 0.0052987449275345155\n",
      "наготовить (1) 6.4736467540654 0.010948564515922006\n",
      "наготовить (2) 9.499757242038672 0.0020549908403729336\n",
      "нагрести 6.062766970584958 0.013806120519111011\n",
      "нагромоздить (1) 6.732545701331309 0.009466939522030513\n",
      "надавать 115.63243006844701 5.7208320521895985e-27\n",
      "надарить 9.01244228590859 0.0026814786666726773\n",
      "наделать (1) 81.17537599572785 2.065496432970588e-19\n",
      "наделать (2) 334.17232866073243 1.1859479197653955e-74\n",
      "надергать (1) 22.290758811033577 2.3433160347459747e-06\n",
      "надрать 14.461500759418087 0.00014305368192894777\n",
      "нажарить 25.203172371781605 5.159725497776469e-07\n",
      "нажить (1, оттенок) 62.7630255102941 2.331346525138052e-15\n",
      "накапать (1) 9.80729005955931 0.0017382145024325262\n",
      "накатать (5) 3.935145079130129 0.04728706156818323\n",
      "накидать 23.520846111541953 1.2356764781638756e-06\n",
      "наколоть1 36.26764782831452 1.7199545000606663e-09\n",
      "накопать (2) 11.373174789108536 0.0007451240857703165\n",
      "накопить 142.67881122038656 6.909678450783451e-33\n",
      "накосить 15.648454216172667 7.627490115470932e-05\n",
      "накрасть 4.254345277817919 0.03915003651371489\n",
      "накрошить 16.015224640444735 6.28351587713344e-05\n",
      "накупить 264.4410370148915 1.8471705100013355e-59\n",
      "налить (1) 353.16038145769426 8.688213302859206e-79\n",
      "наловить 31.505034739755637 1.989238062224269e-08\n",
      "наложить 25.59727088016287 4.206338967588037e-07\n",
      "наломать 49.16290473300837 2.3556354101030233e-12\n",
      "намазать (2) 9.745815904805584 0.0017973133995947265\n",
      "наменять (1) 6.547933585944239 0.010500604416459534\n",
      "намести (2) 15.491113296934627 8.28940574040834e-05\n",
      "нанести (1) 11.87016905499605 0.0005704023460945163\n",
      "нанизать (1) 16.32537073410387 5.334495123063596e-05\n",
      "напечь 78.12715708439984 9.661647708234222e-19\n",
      "напилить 4.678038743034615 0.030550608742648373\n",
      "наплести (1) 4.885042025209579 0.02709037501392357\n",
      "напустить (1) 52.43624717843678 4.444445464187272e-13\n",
      "нарвать (1) 99.34443891567597 2.1219286265855948e-23\n",
      "нарезать (1) 116.31125144837895 4.062608765214063e-27\n",
      "нарезать (3) 11.224721978043611 0.0008071486462124992\n",
      "нарубить (1) 65.55512019303094 5.651111213057373e-16\n",
      "нарыть (1) 7.112595922013577 0.0076544184894216955\n",
      "нарыть (2) 7.703350810529112 0.0055118408988808236\n",
      "насадить 17.63362135635228 2.6781167337787195e-05\n",
      "насбирать 4.254345277817919 0.03915003651371489\n",
      "насеять (1) 4.73960512939074 0.02947583597411124\n",
      "насказать 7.324217649596672 0.006803157173465422\n",
      "наскрести (2) 12.213400683207059 0.0004744746748601616\n",
      "насобирать 29.36878036384894 5.98338345818688e-08\n",
      "насовать (1) 8.781228911588775 0.003043460916480171\n",
      "наставить (1) 19.647844346544158 9.310829231147709e-06\n",
      "наставить (2) 8.392294717729115 0.0037681490139861895\n",
      "настелить 6.152368652472828 0.0131236220002574\n",
      "настлать (1) 6.619634644350705 0.01008605222259525\n",
      "настроить 24.382768267298708 7.897192873228492e-07\n",
      "насушить 10.258706855480382 0.0013604100499834163\n",
      "насЫпать 33.24659416331714 8.118181493704507e-09\n",
      "натаскать (1) 88.3684415578277 5.433071856373199e-21\n",
      "натащить 17.380633773109857 3.059272753116395e-05\n",
      "натворить1 72.90814255442871 1.3582663818738509e-17\n",
      "натереть 12.190735491094562 0.00048027443564341906\n",
      "натолкать 5.9444462609029545 0.014763728610389916\n",
      "натыкать 5.358945462975723 0.020616236476195395\n",
      "нафаршировать 5.440371782016299 0.019676480849506177\n",
      "нахватать (1) 26.899879814303276 2.1427220707452343e-07\n",
      "нацедить 27.3024280389029 1.739927901459393e-07\n",
      "нашептать 109.79756967855838 1.0852635743452089e-25\n",
      "нашинковать 48.703086339375744 2.977974201075275e-12\n",
      "нашить 12.455778506575896 0.00041670065936497754\n",
      "нащипать 12.538733790956744 0.00039860231674524995\n",
      "подбавить 40.374955595237125 2.096108539392159e-10\n",
      "подбросить 56.999607606683554 4.3589886777443345e-14\n",
      "подвезти (2) 108.98494427782484 1.6352323568434755e-25\n",
      "поддать (3, оттенок) 72.49657268056781 1.6732228719382317e-17\n",
      "поджарить 51.078831315699624 8.873002413654486e-13\n",
      "подзаработать 5.94016127574407 0.014799664401763979\n",
      "подкинуть 19.893755188922775 8.186730891659005e-06\n",
      "подкопить 11.373174789108536 0.0007451240857703165\n",
      "подлить 41.689446038796476 1.069849467731742e-10\n",
      "*подлить 78.94147122490192 6.397753892797916e-19\n",
      "подложить 16.560030860288204 4.7134004324352094e-05\n",
      "поднакопить 4.284547818924053 0.03846031152600773\n",
      "поднести 17.236077300885018 3.301077293883028e-05\n",
      "подсЫпать 13.09546197350681 0.00029601199232268956\n",
      "прибавить (2) 217.9023055327021 2.593904609078812e-49\n",
      "пригубить 35.83200391592558 2.150855711222779e-09\n",
      "призанять 5.337054280790105 0.020876721870153\n",
      "прикупить 4.90381409828919 0.02679744611249956\n",
      "принять 151.31321749765448 8.952198518979286e-35\n",
      "прислать 636.6962792886177 1.7476484872681068e-140\n",
      "прихватить 98.1427716701094 3.892791279365053e-23\n",
      "добавить 165.87011161807877 5.90525907097995e-38\n",
      "добыть 430.4154857159532 7.435943081983318e-92\n",
      "добыть 430.4154857159532 7.435943081983318e-92\n",
      "долить 5.479929158177776 0.019236038559670154\n",
      "доставить (1) 830.9827727406833 9.908470205782294e-183\n",
      "доставить (2) 737.4164453049857 2.1854967480856195e-162\n",
      "доставить (3) 1624.8281123214244 0.0\n",
      "достать (3) 227.95323377681095 1.666159857669836e-51\n",
      "отведать (1) 88.2413826072975 5.793509042573252e-21\n",
      "отведать (2) 47.03370498433498 6.97763767117564e-12\n",
      "откусить 13.827646051642803 0.00020036622823246084\n",
      "откушать 25.74614250178521 3.8940455289734197e-07\n",
      "отмотать 6.732545701331309 0.009466939522030513\n",
      "отрыгнуть 6.963177647104359 0.00832041317093118\n",
      "отсосать 8.496063558170558 0.0035591566551773646\n",
      "отсыпать 16.023696369279584 6.255463033693888e-05\n",
      "отхлебнуть 26.73860237633681 2.3292153381489413e-07\n",
      "отцедить 14.673868715986126 0.0001278059187097561\n",
      "заглотнуть 8.465481440922852 0.0036194943847337895\n",
      "зачерпнуть (1) 22.083309313481966 2.610698547104629e-06\n",
      "плеснуть 34.46785602938121 4.333490015012693e-09\n",
      "тяпнуть 4.149111743986634 0.04165637042468945\n",
      "хлебнуть (2) 158.74306944247115 2.1295071192182954e-36\n",
      "хлебнуть (3) 94.39533264083302 2.5840081327642237e-22\n",
      "вкусить (1) 5.388183015870145 0.020273570548468206\n",
      "вкусить (2) 49.398841410127545 2.0886896445250113e-12\n",
      "влить (1) 367.34429798728115 7.08644316131136e-82\n",
      "всыпать (1) 58.65018282938551 1.88350622880963e-14\n",
      "впрыснуть 100.56830710077008 1.143834264863545e-23\n",
      "выкушать 19.051185777237905 1.2725867384291885e-05\n",
      "выпить 194.74210078944648 2.932905574939835e-44\n",
      "заварить (1) 193.6105908500951 5.179108421622842e-44\n",
      "задать (4) 18.871571417348314 1.398209306115256e-05\n",
      "задать (5) 15.292891830488315 9.20622848586256e-05\n",
      "занять1 4.201117261493315 0.04039735543751479\n",
      "запасти 6.186242495764664 0.012874727100275355\n",
      "засЫпать (4) 29.88342034952764 4.588195225308837e-08\n",
      "захватить (1, оттенок) 12.00776843668005 0.0005297925491210464\n",
      "захватить (2) 417.1685035681618 1.0086949750317278e-92\n",
      "испить (1) 109.73847748610615 1.1181029483647146e-25\n",
      "перебрать (6) 8.728923900444704 0.003132012921032399\n",
      "переесть (1) 16.271845096754078 5.487326883055804e-05\n",
      "перепить (1) 13.179456597353498 0.000283034817465283\n",
      "перехватить (7) 6.062766970584958 0.013806120519111011\n",
      "перехватить (8) 3.9811952763205842 0.046010902316061426\n",
      "сбавить (2) 605.7984243512833 9.174990213621588e-134\n",
      "скопить 82.10878781699753 1.287986703121887e-19\n",
      "скушать 26.628153185319785 2.466237208940833e-07\n",
      "снарядить (2) 8.496063558170558 0.0035591566551773646\n",
      "собрать (8) 854.5842293252938 7.32737384583381e-188\n",
      "собрать (9) 157.1860771595344 4.661114205735073e-36\n",
      "спечь 27.972370171056006 1.2306005638188354e-07\n",
      "съесть 970.8945814420814 3.80915144759825e-213\n",
      "убавить (1) 8.01998221307747 0.004626402470203594\n",
      "убавить (2) 161.55998512691434 5.162028390895085e-37\n",
      "хватить 42.789359007637366 6.096287233603688e-11\n"
     ]
    }
   ],
   "source": [
    "verbs_by_chi2 = []\n",
    "for verb in data['лексема']:\n",
    "    chi2, p_value = count_chi2_by_verb(verb)[:2]\n",
    "    if p_value <= 0.05:\n",
    "        print(verb, chi2, p_value)\n",
    "        verbs_by_chi2.append((verb, chi2, p_value))"
   ]
  },
  {
   "cell_type": "markdown",
   "metadata": {
    "id": "izWyS5VuQprE"
   },
   "source": [
    "Выведем длину списка."
   ]
  },
  {
   "cell_type": "code",
   "execution_count": 11,
   "metadata": {
    "colab": {
     "base_uri": "https://localhost:8080/"
    },
    "id": "6ptG2G0-QprE",
    "outputId": "35827c75-4436-40c5-99af-5e3497ac1998",
    "scrolled": true
   },
   "outputs": [
    {
     "data": {
      "text/plain": [
       "176"
      ]
     },
     "execution_count": 11,
     "metadata": {},
     "output_type": "execute_result"
    }
   ],
   "source": [
    "len(verbs_by_chi2)"
   ]
  },
  {
   "cell_type": "markdown",
   "metadata": {
    "id": "2HhRcLQiQprF"
   },
   "source": [
    "Добавляем столбцы в таблицу: данные об общем количестве примеров употребления глагола с род. и вин. падежами, долю примеров с род. и вин. падежами от общего количества употреблений глагола. Данные о преобладании употреблений глагола с род. и вин. падежом."
   ]
  },
  {
   "cell_type": "code",
   "execution_count": 12,
   "metadata": {
    "id": "QIajQsUyQprF"
   },
   "outputs": [],
   "source": [
    "data['total'] = data['РП'] + data['ВП']\n",
    "data['gen_perc'] = data['РП'] / data['total']\n",
    "data['acc_perc'] = data['ВП'] / data['total']\n",
    "data['gen_pref'] = data['РП'] > data['ВП']\n",
    "data['gen_pref'] = data['gen_pref'].astype(int)\n",
    "data['acc_pref'] = data['РП'] < data['ВП']\n",
    "data['acc_pref'] = data['acc_pref'].astype(int)"
   ]
  },
  {
   "cell_type": "markdown",
   "metadata": {
    "id": "QVG9pHLgQprF"
   },
   "source": [
    "Дописываем значения статистики в `data`."
   ]
  },
  {
   "cell_type": "code",
   "execution_count": 13,
   "metadata": {
    "id": "q2pOGpAGQprF"
   },
   "outputs": [],
   "source": [
    "chi2_list = []\n",
    "pvalues = []\n",
    "for verb in data['лексема']:\n",
    "    chi2, p_value = count_chi2_by_verb(verb)[:2]\n",
    "    chi2_list.append(chi2)\n",
    "    pvalues.append(p_value)\n",
    "data['chi2'] = chi2_list\n",
    "data['p_value'] = pvalues"
   ]
  },
  {
   "cell_type": "markdown",
   "metadata": {
    "id": "PoaAUVKUQprF"
   },
   "source": [
    "Отфильтруем датафрейм: возьмем только глаголы, где разница в управлении статзначима. Выведем информацию о его размере."
   ]
  },
  {
   "cell_type": "code",
   "execution_count": 14,
   "metadata": {
    "colab": {
     "base_uri": "https://localhost:8080/"
    },
    "id": "6lpO9HYgQprF",
    "outputId": "d960bf32-b02c-43ae-b13a-913dfc3431c6"
   },
   "outputs": [
    {
     "data": {
      "text/plain": [
       "(176, 19)"
      ]
     },
     "execution_count": 14,
     "metadata": {},
     "output_type": "execute_result"
    }
   ],
   "source": [
    "by_chi2_df = data[data['p_value']<=0.05]\n",
    "by_chi2_df.shape"
   ]
  },
  {
   "cell_type": "markdown",
   "metadata": {
    "id": "hd76-GNOQprF"
   },
   "source": [
    "Построим тепловую карту, которая показывает коэффициенты корреляции Пирсона между предпочтительным выбором одной из моделей управления (`gen_pref` и `асс_pref`) и каждым из признаков, атакже между самими признаками (попарно)."
   ]
  },
  {
   "cell_type": "code",
   "execution_count": 15,
   "metadata": {
    "colab": {
     "base_uri": "https://localhost:8080/",
     "height": 979
    },
    "id": "wSCmZpJfQprF",
    "outputId": "bd6b3b67-2588-490a-83ab-8d0e31cad584"
   },
   "outputs": [
    {
     "data": {
      "image/png": "[encoded data removed]",
      "text/plain": [
       "<Figure size 1000x1000 with 2 Axes>"
      ]
     },
     "metadata": {},
     "output_type": "display_data"
    }
   ],
   "source": [
    "data_with_pref = by_chi2_df.drop(['лексема',\n",
    "                                  'толкование',\n",
    "                                  'РП',\n",
    "                                  'ВП',\n",
    "                                  'total',\n",
    "                                  'gen_perc',\n",
    "                                  'acc_perc',\n",
    "                                  'chi2',\n",
    "                                  'p_value'], axis=1)\n",
    "feature_names = data_with_pref.columns\n",
    "ax = plt.axes()\n",
    "\n",
    "X = data_with_pref.to_numpy()\n",
    "im = ax.imshow(np.corrcoef(X.T), cmap=\"RdBu_r\", vmin=-1, vmax=1)\n",
    "\n",
    "ax.set_xticks(range(10))\n",
    "ax.set_xticklabels(list(feature_names), rotation=90)\n",
    "ax.set_yticks(range(10))\n",
    "ax.set_yticklabels(list(feature_names))\n",
    "\n",
    "ax.figure.set_size_inches(10, 10)\n",
    "\n",
    "\n",
    "plt.colorbar(im).ax.set_ylabel(\"$r$\", rotation=0)\n",
    "ax.set_title('Матрица корреляции признаков и моделей управления')\n",
    "plt.tight_layout()\n"
   ]
  },
  {
   "cell_type": "markdown",
   "metadata": {
    "id": "jLZ6osXyQprF"
   },
   "source": [
    "**Выводы:**\n",
    "* Наблюдается наличие наибольшей положительной корреляции между предпочтительным выбором род. падежа прямого дополнения (`gen_pref`) и такими признаками, как инкрементальность, принадлежность глагола к СД и большое количество объекта, и наличие корреляции (меньшей степени) между выбором род. падежа и ингестивным и экспериенциальным значениями.\n",
    "* Можно констатировать наличие отрицательной корреляции между выбором генитивного\n",
    "управления и выражением глаголом значений передачи/перемещения и приготовления/обработки.\n",
    "* Можно говорить о  связи между инкрементальностью с одной стороны и принадлежностью к СД, ингестивным и экспериенциальным глаголам и значением большого количества объекта – с другой.\n",
    "* Значения передачи/перемещения и приготовления/обработки показывают отрицательную корреляцию практически со всеми признаками (исключение – значение большого количества объекта, что может объясняться наличием среди глаголов кумулятивного СД некоторого количества лексем с семантикой приготовления пищи/обработки)."
   ]
  },
  {
   "cell_type": "markdown",
   "metadata": {
    "id": "Zlr69l6oQprF"
   },
   "source": [
    " ### Критерий Вилкоксона"
   ]
  },
  {
   "cell_type": "markdown",
   "metadata": {
    "id": "yINVz59XQprF"
   },
   "source": [
    "Создадим пустые списки."
   ]
  },
  {
   "cell_type": "code",
   "execution_count": 16,
   "metadata": {
    "id": "ElKa0kt0QprF"
   },
   "outputs": [],
   "source": [
    "features_list = []\n",
    "verb_quantity = []\n",
    "w_statistic = []\n",
    "w_pvalue = []"
   ]
  },
  {
   "cell_type": "markdown",
   "metadata": {
    "id": "MrSp7D1VQprG"
   },
   "source": [
    "Напишем функцию, которая выведет результаты применения W-критерия для проверки гипотезы M(вин. п.) < M(род. п)."
   ]
  },
  {
   "cell_type": "code",
   "execution_count": 17,
   "metadata": {
    "id": "d07InSRAQprY"
   },
   "outputs": [],
   "source": [
    "def wilcoxon_test_table(feature, feature_name):\n",
    "    features_list.append(feature_name)\n",
    "    verb_quantity.append(feature['лексема'].count())\n",
    "    w_statistic.append(stats.wilcoxon(feature['РП'], feature['ВП'], alternative='greater')[0])\n",
    "    w_pvalue.append(stats.wilcoxon(feature['РП'], feature['ВП'], alternative='greater')[1])"
   ]
  },
  {
   "cell_type": "markdown",
   "metadata": {
    "id": "kCtQfW0IQprY"
   },
   "source": [
    "Отфильтруем датафрейм по положительным/отрицательным значениям признаков в связи со значением признака принадлежности к способу действия."
   ]
  },
  {
   "cell_type": "code",
   "execution_count": 18,
   "metadata": {
    "id": "_om9vqLYQprZ"
   },
   "outputs": [],
   "source": [
    "# СД / не-СД\n",
    "sd = data[data['СД'] == 1]\n",
    "no_sd = data[data['СД'] != 1]\n",
    "\n",
    "# инкрементальные\n",
    "increm = data[data['инкрементальность'] == 1]\n",
    "increm_sd = increm[increm['СД'] == 1]\n",
    "increm_non_sd = increm[increm['СД'] != 1]\n",
    "\n",
    "# ингестивные\n",
    "ingest = data[data['ингестивный'] == 1]\n",
    "ingest_sd = ingest[ingest['СД'] == 1]\n",
    "ingest_non_sd = ingest[ingest['СД'] != 1]\n",
    "\n",
    "# большое количество\n",
    "large = data[data['большое количество объекта'] == 1]\n",
    "large_sd = large[large['СД'] == 1]\n",
    "large_non_sd = large[large['СД'] != 1]"
   ]
  },
  {
   "cell_type": "markdown",
   "metadata": {
    "id": "5i-RCgqsQprZ"
   },
   "source": [
    "Применяем функцию `wilcoxon_test_table` и получаем данные для будущей таблицы."
   ]
  },
  {
   "cell_type": "code",
   "execution_count": 19,
   "metadata": {
    "id": "1EfQIt9qQprZ"
   },
   "outputs": [],
   "source": [
    "wilcoxon_test_table(sd, 'СД')\n",
    "wilcoxon_test_table(no_sd, 'не СД')\n",
    "\n",
    "wilcoxon_test_table(increm, 'инкрементальный всего')\n",
    "wilcoxon_test_table(increm_sd, 'инкрементальный СД')\n",
    "wilcoxon_test_table(increm_non_sd, 'инкрементальный не СД')\n",
    "\n",
    "wilcoxon_test_table(ingest, 'ингестивный всего')\n",
    "wilcoxon_test_table(ingest_sd, 'ингестивный СД')\n",
    "wilcoxon_test_table(ingest_non_sd, 'ингестивный не СД')\n",
    "\n",
    "wilcoxon_test_table(large, 'большое количество всего')\n",
    "wilcoxon_test_table(large_sd, 'большое количество СД')\n",
    "wilcoxon_test_table(large_non_sd, 'большое количество не СД')"
   ]
  },
  {
   "cell_type": "markdown",
   "metadata": {
    "id": "GIw5TqeiQprZ"
   },
   "source": [
    "Строим таблицу."
   ]
  },
  {
   "cell_type": "code",
   "execution_count": 20,
   "metadata": {
    "id": "x5CayMy7QprZ"
   },
   "outputs": [],
   "source": [
    "wilcoxon_table = pd.DataFrame(\n",
    "    {\n",
    "     'признак': features_list,\n",
    "     'кол-во лексем (из 460)': verb_quantity,\n",
    "     'W': w_statistic,\n",
    "     'p-value': w_pvalue\n",
    "    }\n",
    ")"
   ]
  },
  {
   "cell_type": "markdown",
   "metadata": {
    "id": "WHWOudVfQprZ"
   },
   "source": [
    "Добавляем в таблицу данные о статистической значимости"
   ]
  },
  {
   "cell_type": "code",
   "execution_count": 21,
   "metadata": {
    "id": "Dkp8DUnSQprZ"
   },
   "outputs": [],
   "source": [
    "significance = []\n",
    "for value in list(wilcoxon_table['p-value']):\n",
    "    if value < 0.05:\n",
    "        significance.append(True)\n",
    "    else:\n",
    "        significance.append(False)\n",
    "wilcoxon_table['значимость'] = significance"
   ]
  },
  {
   "cell_type": "code",
   "execution_count": 22,
   "metadata": {
    "colab": {
     "base_uri": "https://localhost:8080/",
     "height": 394
    },
    "id": "M6YLeZuMQprZ",
    "outputId": "4f64ad9f-9309-4b00-8dde-f5e47ed68292"
   },
   "outputs": [
    {
     "data": {
      "text/html": [
       "\n",
       "  <div id=\"df-a891de4f-93c0-4e02-b2cd-2d8dc6b8c004\" class=\"colab-df-container\">\n",
       "    <div>\n",
       "<style scoped>\n",
       "    .dataframe tbody tr th:only-of-type {\n",
       "        vertical-align: middle;\n",
       "    }\n",
       "\n",
       "    .dataframe tbody tr th {\n",
       "        vertical-align: top;\n",
       "    }\n",
       "\n",
       "    .dataframe thead th {\n",
       "        text-align: right;\n",
       "    }\n",
       "</style>\n",
       "<table border=\"1\" class=\"dataframe\">\n",
       "  <thead>\n",
       "    <tr style=\"text-align: right;\">\n",
       "      <th></th>\n",
       "      <th>признак</th>\n",
       "      <th>кол-во лексем (из 460)</th>\n",
       "      <th>W</th>\n",
       "      <th>p-value</th>\n",
       "      <th>значимость</th>\n",
       "    </tr>\n",
       "  </thead>\n",
       "  <tbody>\n",
       "    <tr>\n",
       "      <th>0</th>\n",
       "      <td>СД</td>\n",
       "      <td>400</td>\n",
       "      <td>61654.5</td>\n",
       "      <td>2.938279e-32</td>\n",
       "      <td>True</td>\n",
       "    </tr>\n",
       "    <tr>\n",
       "      <th>1</th>\n",
       "      <td>не СД</td>\n",
       "      <td>60</td>\n",
       "      <td>526.5</td>\n",
       "      <td>9.914334e-01</td>\n",
       "      <td>False</td>\n",
       "    </tr>\n",
       "    <tr>\n",
       "      <th>2</th>\n",
       "      <td>инкрементальный всего</td>\n",
       "      <td>421</td>\n",
       "      <td>65216.5</td>\n",
       "      <td>3.204744e-27</td>\n",
       "      <td>True</td>\n",
       "    </tr>\n",
       "    <tr>\n",
       "      <th>3</th>\n",
       "      <td>инкрементальный СД</td>\n",
       "      <td>392</td>\n",
       "      <td>59249.0</td>\n",
       "      <td>5.314158e-32</td>\n",
       "      <td>True</td>\n",
       "    </tr>\n",
       "    <tr>\n",
       "      <th>4</th>\n",
       "      <td>инкрементальный не СД</td>\n",
       "      <td>29</td>\n",
       "      <td>174.5</td>\n",
       "      <td>7.418669e-01</td>\n",
       "      <td>False</td>\n",
       "    </tr>\n",
       "    <tr>\n",
       "      <th>5</th>\n",
       "      <td>ингестивный всего</td>\n",
       "      <td>51</td>\n",
       "      <td>944.0</td>\n",
       "      <td>1.300774e-04</td>\n",
       "      <td>True</td>\n",
       "    </tr>\n",
       "    <tr>\n",
       "      <th>6</th>\n",
       "      <td>ингестивный СД</td>\n",
       "      <td>37</td>\n",
       "      <td>553.5</td>\n",
       "      <td>4.662039e-05</td>\n",
       "      <td>True</td>\n",
       "    </tr>\n",
       "    <tr>\n",
       "      <th>7</th>\n",
       "      <td>ингестивный не СД</td>\n",
       "      <td>14</td>\n",
       "      <td>57.0</td>\n",
       "      <td>2.107894e-01</td>\n",
       "      <td>False</td>\n",
       "    </tr>\n",
       "    <tr>\n",
       "      <th>8</th>\n",
       "      <td>большое количество всего</td>\n",
       "      <td>252</td>\n",
       "      <td>26714.5</td>\n",
       "      <td>2.636271e-32</td>\n",
       "      <td>True</td>\n",
       "    </tr>\n",
       "    <tr>\n",
       "      <th>9</th>\n",
       "      <td>большое количество СД</td>\n",
       "      <td>251</td>\n",
       "      <td>26480.5</td>\n",
       "      <td>3.958468e-32</td>\n",
       "      <td>True</td>\n",
       "    </tr>\n",
       "    <tr>\n",
       "      <th>10</th>\n",
       "      <td>большое количество не СД</td>\n",
       "      <td>1</td>\n",
       "      <td>1.0</td>\n",
       "      <td>5.000000e-01</td>\n",
       "      <td>False</td>\n",
       "    </tr>\n",
       "  </tbody>\n",
       "</table>\n",
       "</div>\n",
       "    <div class=\"colab-df-buttons\">\n",
       "\n",
       "  <div class=\"colab-df-container\">\n",
       "    <button class=\"colab-df-convert\" onclick=\"convertToInteractive('df-a891de4f-93c0-4e02-b2cd-2d8dc6b8c004')\"\n",
       "            title=\"Convert this dataframe to an interactive table.\"\n",
       "            style=\"display:none;\">\n",
       "\n",
       "  <svg xmlns=\"http://www.w3.org/2000/svg\" height=\"24px\" viewBox=\"0 -960 960 960\">\n",
       "    <path d=\"M120-120v-720h720v720H120Zm60-500h600v-160H180v160Zm220 220h160v-160H400v160Zm0 220h160v-160H400v160ZM180-400h160v-160H180v160Zm440 0h160v-160H620v160ZM180-180h160v-160H180v160Zm440 0h160v-160H620v160Z\"/>\n",
       "  </svg>\n",
       "    </button>\n",
       "\n",
       "  <style>\n",
       "    .colab-df-container {\n",
       "      display:flex;\n",
       "      gap: 12px;\n",
       "    }\n",
       "\n",
       "    .colab-df-convert {\n",
       "      background-color: #E8F0FE;\n",
       "      border: none;\n",
       "      border-radius: 50%;\n",
       "      cursor: pointer;\n",
       "      display: none;\n",
       "      fill: #1967D2;\n",
       "      height: 32px;\n",
       "      padding: 0 0 0 0;\n",
       "      width: 32px;\n",
       "    }\n",
       "\n",
       "    .colab-df-convert:hover {\n",
       "      background-color: #E2EBFA;\n",
       "      box-shadow: 0px 1px 2px rgba(60, 64, 67, 0.3), 0px 1px 3px 1px rgba(60, 64, 67, 0.15);\n",
       "      fill: #174EA6;\n",
       "    }\n",
       "\n",
       "    .colab-df-buttons div {\n",
       "      margin-bottom: 4px;\n",
       "    }\n",
       "\n",
       "    [theme=dark] .colab-df-convert {\n",
       "      background-color: #3B4455;\n",
       "      fill: #D2E3FC;\n",
       "    }\n",
       "\n",
       "    [theme=dark] .colab-df-convert:hover {\n",
       "      background-color: #434B5C;\n",
       "      box-shadow: 0px 1px 3px 1px rgba(0, 0, 0, 0.15);\n",
       "      filter: drop-shadow(0px 1px 2px rgba(0, 0, 0, 0.3));\n",
       "      fill: #FFFFFF;\n",
       "    }\n",
       "  </style>\n",
       "\n",
       "    <script>\n",
       "      const buttonEl =\n",
       "        document.querySelector('#df-a891de4f-93c0-4e02-b2cd-2d8dc6b8c004 button.colab-df-convert');\n",
       "      buttonEl.style.display =\n",
       "        google.colab.kernel.accessAllowed ? 'block' : 'none';\n",
       "\n",
       "      async function convertToInteractive(key) {\n",
       "        const element = document.querySelector('#df-a891de4f-93c0-4e02-b2cd-2d8dc6b8c004');\n",
       "        const dataTable =\n",
       "          await google.colab.kernel.invokeFunction('convertToInteractive',\n",
       "                                                    [key], {});\n",
       "        if (!dataTable) return;\n",
       "\n",
       "        const docLinkHtml = 'Like what you see? Visit the ' +\n",
       "          '<a target=\"_blank\" href=https://colab.research.google.com/notebooks/data_table.ipynb>data table notebook</a>'\n",
       "          + ' to learn more about interactive tables.';\n",
       "        element.innerHTML = '';\n",
       "        dataTable['output_type'] = 'display_data';\n",
       "        await google.colab.output.renderOutput(dataTable, element);\n",
       "        const docLink = document.createElement('div');\n",
       "        docLink.innerHTML = docLinkHtml;\n",
       "        element.appendChild(docLink);\n",
       "      }\n",
       "    </script>\n",
       "  </div>\n",
       "\n",
       "\n",
       "<div id=\"df-225348a5-595e-4d55-b627-6d1a1223ac2f\">\n",
       "  <button class=\"colab-df-quickchart\" onclick=\"quickchart('df-225348a5-595e-4d55-b627-6d1a1223ac2f')\"\n",
       "            title=\"Suggest charts\"\n",
       "            style=\"display:none;\">\n",
       "\n",
       "<svg xmlns=\"http://www.w3.org/2000/svg\" height=\"24px\"viewBox=\"0 0 24 24\"\n",
       "     width=\"24px\">\n",
       "    <g>\n",
       "        <path d=\"M19 3H5c-1.1 0-2 .9-2 2v14c0 1.1.9 2 2 2h14c1.1 0 2-.9 2-2V5c0-1.1-.9-2-2-2zM9 17H7v-7h2v7zm4 0h-2V7h2v10zm4 0h-2v-4h2v4z\"/>\n",
       "    </g>\n",
       "</svg>\n",
       "  </button>\n",
       "\n",
       "<style>\n",
       "  .colab-df-quickchart {\n",
       "      --bg-color: #E8F0FE;\n",
       "      --fill-color: #1967D2;\n",
       "      --hover-bg-color: #E2EBFA;\n",
       "      --hover-fill-color: #174EA6;\n",
       "      --disabled-fill-color: #AAA;\n",
       "      --disabled-bg-color: #DDD;\n",
       "  }\n",
       "\n",
       "  [theme=dark] .colab-df-quickchart {\n",
       "      --bg-color: #3B4455;\n",
       "      --fill-color: #D2E3FC;\n",
       "      --hover-bg-color: #434B5C;\n",
       "      --hover-fill-color: #FFFFFF;\n",
       "      --disabled-bg-color: #3B4455;\n",
       "      --disabled-fill-color: #666;\n",
       "  }\n",
       "\n",
       "  .colab-df-quickchart {\n",
       "    background-color: var(--bg-color);\n",
       "    border: none;\n",
       "    border-radius: 50%;\n",
       "    cursor: pointer;\n",
       "    display: none;\n",
       "    fill: var(--fill-color);\n",
       "    height: 32px;\n",
       "    padding: 0;\n",
       "    width: 32px;\n",
       "  }\n",
       "\n",
       "  .colab-df-quickchart:hover {\n",
       "    background-color: var(--hover-bg-color);\n",
       "    box-shadow: 0 1px 2px rgba(60, 64, 67, 0.3), 0 1px 3px 1px rgba(60, 64, 67, 0.15);\n",
       "    fill: var(--button-hover-fill-color);\n",
       "  }\n",
       "\n",
       "  .colab-df-quickchart-complete:disabled,\n",
       "  .colab-df-quickchart-complete:disabled:hover {\n",
       "    background-color: var(--disabled-bg-color);\n",
       "    fill: var(--disabled-fill-color);\n",
       "    box-shadow: none;\n",
       "  }\n",
       "\n",
       "  .colab-df-spinner {\n",
       "    border: 2px solid var(--fill-color);\n",
       "    border-color: transparent;\n",
       "    border-bottom-color: var(--fill-color);\n",
       "    animation:\n",
       "      spin 1s steps(1) infinite;\n",
       "  }\n",
       "\n",
       "  @keyframes spin {\n",
       "    0% {\n",
       "      border-color: transparent;\n",
       "      border-bottom-color: var(--fill-color);\n",
       "      border-left-color: var(--fill-color);\n",
       "    }\n",
       "    20% {\n",
       "      border-color: transparent;\n",
       "      border-left-color: var(--fill-color);\n",
       "      border-top-color: var(--fill-color);\n",
       "    }\n",
       "    30% {\n",
       "      border-color: transparent;\n",
       "      border-left-color: var(--fill-color);\n",
       "      border-top-color: var(--fill-color);\n",
       "      border-right-color: var(--fill-color);\n",
       "    }\n",
       "    40% {\n",
       "      border-color: transparent;\n",
       "      border-right-color: var(--fill-color);\n",
       "      border-top-color: var(--fill-color);\n",
       "    }\n",
       "    60% {\n",
       "      border-color: transparent;\n",
       "      border-right-color: var(--fill-color);\n",
       "    }\n",
       "    80% {\n",
       "      border-color: transparent;\n",
       "      border-right-color: var(--fill-color);\n",
       "      border-bottom-color: var(--fill-color);\n",
       "    }\n",
       "    90% {\n",
       "      border-color: transparent;\n",
       "      border-bottom-color: var(--fill-color);\n",
       "    }\n",
       "  }\n",
       "</style>\n",
       "\n",
       "  <script>\n",
       "    async function quickchart(key) {\n",
       "      const quickchartButtonEl =\n",
       "        document.querySelector('#' + key + ' button');\n",
       "      quickchartButtonEl.disabled = true;  // To prevent multiple clicks.\n",
       "      quickchartButtonEl.classList.add('colab-df-spinner');\n",
       "      try {\n",
       "        const charts = await google.colab.kernel.invokeFunction(\n",
       "            'suggestCharts', [key], {});\n",
       "      } catch (error) {\n",
       "        console.error('Error during call to suggestCharts:', error);\n",
       "      }\n",
       "      quickchartButtonEl.classList.remove('colab-df-spinner');\n",
       "      quickchartButtonEl.classList.add('colab-df-quickchart-complete');\n",
       "    }\n",
       "    (() => {\n",
       "      let quickchartButtonEl =\n",
       "        document.querySelector('#df-225348a5-595e-4d55-b627-6d1a1223ac2f button');\n",
       "      quickchartButtonEl.style.display =\n",
       "        google.colab.kernel.accessAllowed ? 'block' : 'none';\n",
       "    })();\n",
       "  </script>\n",
       "</div>\n",
       "    </div>\n",
       "  </div>\n"
      ],
      "text/plain": [
       "                     признак  кол-во лексем (из 460)        W       p-value  \\\n",
       "0                         СД                     400  61654.5  2.938279e-32   \n",
       "1                      не СД                      60    526.5  9.914334e-01   \n",
       "2      инкрементальный всего                     421  65216.5  3.204744e-27   \n",
       "3         инкрементальный СД                     392  59249.0  5.314158e-32   \n",
       "4      инкрементальный не СД                      29    174.5  7.418669e-01   \n",
       "5          ингестивный всего                      51    944.0  1.300774e-04   \n",
       "6             ингестивный СД                      37    553.5  4.662039e-05   \n",
       "7          ингестивный не СД                      14     57.0  2.107894e-01   \n",
       "8   большое количество всего                     252  26714.5  2.636271e-32   \n",
       "9      большое количество СД                     251  26480.5  3.958468e-32   \n",
       "10  большое количество не СД                       1      1.0  5.000000e-01   \n",
       "\n",
       "    значимость  \n",
       "0         True  \n",
       "1        False  \n",
       "2         True  \n",
       "3         True  \n",
       "4        False  \n",
       "5         True  \n",
       "6         True  \n",
       "7        False  \n",
       "8         True  \n",
       "9         True  \n",
       "10       False  "
      ]
     },
     "execution_count": 22,
     "metadata": {},
     "output_type": "execute_result"
    }
   ],
   "source": [
    "wilcoxon_table"
   ]
  },
  {
   "cell_type": "markdown",
   "metadata": {
    "id": "NJKA0FBdQprZ"
   },
   "source": [
    "**Вывод:**\n",
    "\n",
    "принадлежность к СД является важнейшей характеристикой глагола, влияющей на выбор род. падежа как предпочтительного средства оформления прямого дополнения."
   ]
  },
  {
   "cell_type": "markdown",
   "metadata": {
    "id": "zYIq8P1RQprZ"
   },
   "source": [
    " ### Хи-квадрат"
   ]
  },
  {
   "cell_type": "markdown",
   "metadata": {
    "id": "lRc9g0PMQprZ"
   },
   "source": [
    "Проализируем распределение род. и вин. падежей при глаголах, характеризующихся различными признаками,  при помощи критерия согласия хи-квадрат. Анализ осуществляется на полной выборке глаголов, для которых в НКРЯ обнаруживаются случаи сочетания хотя бы с одной падежной формой (460 глаголов)."
   ]
  },
  {
   "cell_type": "markdown",
   "metadata": {
    "id": "rQvetRlUQprZ"
   },
   "source": [
    "Фильтруем датафрейм по положительным/отрицательным значениям признаков"
   ]
  },
  {
   "cell_type": "code",
   "execution_count": 23,
   "metadata": {
    "id": "2iYXKLURQprZ"
   },
   "outputs": [],
   "source": [
    "no_increm = data[data['инкрементальность'] != 1]\n",
    "no_ingest = data[data['ингестивный'] != 1]\n",
    "no_large = data[data['большое количество объекта'] != 1]\n",
    "\n",
    "experience = data[data['экспериенциальность'] == 1]\n",
    "no_experience = data[data['экспериенциальность'] != 1]\n",
    "transfer = data[data['передача/перемещение'] == 1]\n",
    "no_transfer = data[data['передача/перемещение'] != 1]\n",
    "prepare = data[data['приготовление/обработка'] == 1]\n",
    "no_prepare = data[data['приготовление/обработка'] != 1]"
   ]
  },
  {
   "cell_type": "markdown",
   "metadata": {
    "id": "cF7RFzRfQprZ"
   },
   "source": [
    "Создаем пустые списки"
   ]
  },
  {
   "cell_type": "code",
   "execution_count": 24,
   "metadata": {
    "id": "KfG8RdexQpra"
   },
   "outputs": [],
   "source": [
    "features_name = []\n",
    "gen_number = []\n",
    "gen_ratio = []\n",
    "acc_number = []\n",
    "acc_ratio = []\n",
    "chi_cquare_value = []\n",
    "chi_pvalue = []"
   ]
  },
  {
   "cell_type": "markdown",
   "metadata": {
    "id": "vDrtQZstQpra"
   },
   "source": [
    "Функция, определяющая хи-квадрат и значение p для распределений род. и вин. падежей при глаголах с положительными (+) и отрицательными (-) значениями признаков"
   ]
  },
  {
   "cell_type": "code",
   "execution_count": 25,
   "metadata": {
    "id": "9f6xzTcsQpra"
   },
   "outputs": [],
   "source": [
    "def chi_square_table(feature_plus, feature_minus, feature_plus_name, feature_minus_name):\n",
    "\n",
    "    a=sum(feature_plus['РП'])/(sum(feature_plus['РП'])+sum(feature_plus['ВП']))*100\n",
    "    b=sum(feature_plus['ВП'])/(sum(feature_plus['РП'])+sum(feature_plus['ВП']))*100\n",
    "    c=sum(feature_minus['РП'])/(sum(feature_minus['РП'])+sum(feature_minus['ВП']))*100\n",
    "    d=sum(feature_minus['ВП'])/(sum(feature_minus['РП'])+sum(feature_minus['ВП']))*100\n",
    "\n",
    "    obs = np.array([[sum(feature_plus['РП']), sum(feature_plus['ВП'])],\n",
    "                    [sum(feature_minus['РП']), sum(feature_minus['ВП'])]])\n",
    "    chi_square, p_value = stats.chi2_contingency(obs)[:2]\n",
    "\n",
    "    features_name.append(feature_plus_name)\n",
    "    gen_number.append(sum(feature_plus['РП']))\n",
    "    gen_ratio.append(a)\n",
    "    acc_number.append(sum(feature_plus['ВП']))\n",
    "    acc_ratio.append(b)\n",
    "\n",
    "    features_name.append(feature_minus_name)\n",
    "    gen_number.append(sum(feature_minus['РП']))\n",
    "    gen_ratio.append(c)\n",
    "    acc_number.append(sum(feature_minus['ВП']))\n",
    "    acc_ratio.append(d)\n",
    "\n",
    "    chi_cquare_value.append(chi_square)\n",
    "    chi_pvalue.append(p_value)\n",
    "    chi_cquare_value.append(None)\n",
    "    chi_pvalue.append(None)"
   ]
  },
  {
   "cell_type": "markdown",
   "metadata": {
    "id": "n5thNYBbQpra"
   },
   "source": [
    "**хи-квадрат для +/- значений признаков**"
   ]
  },
  {
   "cell_type": "code",
   "execution_count": 26,
   "metadata": {
    "id": "ca621031"
   },
   "outputs": [],
   "source": [
    "chi_square_table(increm, no_increm, '+инкрементальность', '-инкрементальность')"
   ]
  },
  {
   "cell_type": "code",
   "execution_count": 27,
   "metadata": {
    "id": "7062e1f2"
   },
   "outputs": [],
   "source": [
    "chi_square_table(sd, no_sd, '+СД', '-СД')"
   ]
  },
  {
   "cell_type": "code",
   "execution_count": 28,
   "metadata": {
    "id": "2fb4fb31"
   },
   "outputs": [],
   "source": [
    "chi_square_table(ingest, no_ingest, '+ингестивный', '-ингестивный')"
   ]
  },
  {
   "cell_type": "code",
   "execution_count": 29,
   "metadata": {
    "id": "78e1bb3f"
   },
   "outputs": [],
   "source": [
    "chi_square_table(large, no_large, '+большое количество', '-большое количество')"
   ]
  },
  {
   "cell_type": "code",
   "execution_count": 30,
   "metadata": {
    "id": "649461a0"
   },
   "outputs": [],
   "source": [
    "chi_square_table(experience, no_experience, '+экспериенциальность', '-экспериенциальность')"
   ]
  },
  {
   "cell_type": "code",
   "execution_count": 31,
   "metadata": {
    "id": "04ef6613"
   },
   "outputs": [],
   "source": [
    "chi_square_table(transfer, no_transfer, '+перемещение', '-перемещение')"
   ]
  },
  {
   "cell_type": "code",
   "execution_count": 32,
   "metadata": {
    "id": "4ad3958b"
   },
   "outputs": [],
   "source": [
    "chi_square_table(prepare, no_prepare, '+приготовление', '-приготовление')"
   ]
  },
  {
   "cell_type": "code",
   "execution_count": 33,
   "metadata": {
    "id": "ee489979"
   },
   "outputs": [],
   "source": [
    "chi_square_table_ = pd.DataFrame(\n",
    "    {\n",
    "        'значение признака': features_name,\n",
    "        'РП': gen_number,\n",
    "        '%РП': gen_ratio,\n",
    "        'ВП': acc_number,\n",
    "        '%ВП': acc_ratio,\n",
    "        'хи-квадрат': chi_cquare_value,\n",
    "        'p-value': chi_pvalue\n",
    "    }\n",
    ")"
   ]
  },
  {
   "cell_type": "code",
   "execution_count": 34,
   "metadata": {
    "colab": {
     "base_uri": "https://localhost:8080/",
     "height": 488
    },
    "id": "2156d9bc",
    "outputId": "69b9d4ad-c769-482f-f8e2-f93000db1521"
   },
   "outputs": [
    {
     "data": {
      "text/html": [
       "\n",
       "  <div id=\"df-35b6062c-fbfe-40be-a052-d5ef4360803d\" class=\"colab-df-container\">\n",
       "    <div>\n",
       "<style scoped>\n",
       "    .dataframe tbody tr th:only-of-type {\n",
       "        vertical-align: middle;\n",
       "    }\n",
       "\n",
       "    .dataframe tbody tr th {\n",
       "        vertical-align: top;\n",
       "    }\n",
       "\n",
       "    .dataframe thead th {\n",
       "        text-align: right;\n",
       "    }\n",
       "</style>\n",
       "<table border=\"1\" class=\"dataframe\">\n",
       "  <thead>\n",
       "    <tr style=\"text-align: right;\">\n",
       "      <th></th>\n",
       "      <th>значение признака</th>\n",
       "      <th>РП</th>\n",
       "      <th>%РП</th>\n",
       "      <th>ВП</th>\n",
       "      <th>%ВП</th>\n",
       "      <th>хи-квадрат</th>\n",
       "      <th>p-value</th>\n",
       "    </tr>\n",
       "  </thead>\n",
       "  <tbody>\n",
       "    <tr>\n",
       "      <th>0</th>\n",
       "      <td>+инкрементальность</td>\n",
       "      <td>21697</td>\n",
       "      <td>69.034968</td>\n",
       "      <td>9732</td>\n",
       "      <td>30.965032</td>\n",
       "      <td>4829.392390</td>\n",
       "      <td>0.000000e+00</td>\n",
       "    </tr>\n",
       "    <tr>\n",
       "      <th>1</th>\n",
       "      <td>-инкрементальность</td>\n",
       "      <td>1669</td>\n",
       "      <td>24.048991</td>\n",
       "      <td>5271</td>\n",
       "      <td>75.951009</td>\n",
       "      <td>NaN</td>\n",
       "      <td>NaN</td>\n",
       "    </tr>\n",
       "    <tr>\n",
       "      <th>2</th>\n",
       "      <td>+СД</td>\n",
       "      <td>18143</td>\n",
       "      <td>74.971074</td>\n",
       "      <td>6057</td>\n",
       "      <td>25.028926</td>\n",
       "      <td>5448.765280</td>\n",
       "      <td>0.000000e+00</td>\n",
       "    </tr>\n",
       "    <tr>\n",
       "      <th>3</th>\n",
       "      <td>-СД</td>\n",
       "      <td>5223</td>\n",
       "      <td>36.862164</td>\n",
       "      <td>8946</td>\n",
       "      <td>63.137836</td>\n",
       "      <td>NaN</td>\n",
       "      <td>NaN</td>\n",
       "    </tr>\n",
       "    <tr>\n",
       "      <th>4</th>\n",
       "      <td>+ингестивный</td>\n",
       "      <td>7232</td>\n",
       "      <td>71.469513</td>\n",
       "      <td>2887</td>\n",
       "      <td>28.530487</td>\n",
       "      <td>644.401240</td>\n",
       "      <td>3.687561e-142</td>\n",
       "    </tr>\n",
       "    <tr>\n",
       "      <th>5</th>\n",
       "      <td>-ингестивный</td>\n",
       "      <td>16134</td>\n",
       "      <td>57.111504</td>\n",
       "      <td>12116</td>\n",
       "      <td>42.888496</td>\n",
       "      <td>NaN</td>\n",
       "      <td>NaN</td>\n",
       "    </tr>\n",
       "    <tr>\n",
       "      <th>6</th>\n",
       "      <td>+большое количество</td>\n",
       "      <td>5731</td>\n",
       "      <td>84.727972</td>\n",
       "      <td>1033</td>\n",
       "      <td>15.272028</td>\n",
       "      <td>1957.041017</td>\n",
       "      <td>0.000000e+00</td>\n",
       "    </tr>\n",
       "    <tr>\n",
       "      <th>7</th>\n",
       "      <td>-большое количество</td>\n",
       "      <td>17635</td>\n",
       "      <td>55.798133</td>\n",
       "      <td>13970</td>\n",
       "      <td>44.201867</td>\n",
       "      <td>NaN</td>\n",
       "      <td>NaN</td>\n",
       "    </tr>\n",
       "    <tr>\n",
       "      <th>8</th>\n",
       "      <td>+экспериенциальность</td>\n",
       "      <td>622</td>\n",
       "      <td>67.903930</td>\n",
       "      <td>294</td>\n",
       "      <td>32.096070</td>\n",
       "      <td>19.041905</td>\n",
       "      <td>1.278791e-05</td>\n",
       "    </tr>\n",
       "    <tr>\n",
       "      <th>9</th>\n",
       "      <td>-экспериенциальность</td>\n",
       "      <td>22744</td>\n",
       "      <td>60.726778</td>\n",
       "      <td>14709</td>\n",
       "      <td>39.273222</td>\n",
       "      <td>NaN</td>\n",
       "      <td>NaN</td>\n",
       "    </tr>\n",
       "    <tr>\n",
       "      <th>10</th>\n",
       "      <td>+перемещение</td>\n",
       "      <td>4698</td>\n",
       "      <td>47.797334</td>\n",
       "      <td>5131</td>\n",
       "      <td>52.202666</td>\n",
       "      <td>951.681717</td>\n",
       "      <td>5.717154e-209</td>\n",
       "    </tr>\n",
       "    <tr>\n",
       "      <th>11</th>\n",
       "      <td>-перемещение</td>\n",
       "      <td>18668</td>\n",
       "      <td>65.409951</td>\n",
       "      <td>9872</td>\n",
       "      <td>34.590049</td>\n",
       "      <td>NaN</td>\n",
       "      <td>NaN</td>\n",
       "    </tr>\n",
       "    <tr>\n",
       "      <th>12</th>\n",
       "      <td>+приготовление</td>\n",
       "      <td>1071</td>\n",
       "      <td>52.448580</td>\n",
       "      <td>971</td>\n",
       "      <td>47.551420</td>\n",
       "      <td>64.291074</td>\n",
       "      <td>1.073309e-15</td>\n",
       "    </tr>\n",
       "    <tr>\n",
       "      <th>13</th>\n",
       "      <td>-приготовление</td>\n",
       "      <td>22295</td>\n",
       "      <td>61.373083</td>\n",
       "      <td>14032</td>\n",
       "      <td>38.626917</td>\n",
       "      <td>NaN</td>\n",
       "      <td>NaN</td>\n",
       "    </tr>\n",
       "  </tbody>\n",
       "</table>\n",
       "</div>\n",
       "    <div class=\"colab-df-buttons\">\n",
       "\n",
       "  <div class=\"colab-df-container\">\n",
       "    <button class=\"colab-df-convert\" onclick=\"convertToInteractive('df-35b6062c-fbfe-40be-a052-d5ef4360803d')\"\n",
       "            title=\"Convert this dataframe to an interactive table.\"\n",
       "            style=\"display:none;\">\n",
       "\n",
       "  <svg xmlns=\"http://www.w3.org/2000/svg\" height=\"24px\" viewBox=\"0 -960 960 960\">\n",
       "    <path d=\"M120-120v-720h720v720H120Zm60-500h600v-160H180v160Zm220 220h160v-160H400v160Zm0 220h160v-160H400v160ZM180-400h160v-160H180v160Zm440 0h160v-160H620v160ZM180-180h160v-160H180v160Zm440 0h160v-160H620v160Z\"/>\n",
       "  </svg>\n",
       "    </button>\n",
       "\n",
       "  <style>\n",
       "    .colab-df-container {\n",
       "      display:flex;\n",
       "      gap: 12px;\n",
       "    }\n",
       "\n",
       "    .colab-df-convert {\n",
       "      background-color: #E8F0FE;\n",
       "      border: none;\n",
       "      border-radius: 50%;\n",
       "      cursor: pointer;\n",
       "      display: none;\n",
       "      fill: #1967D2;\n",
       "      height: 32px;\n",
       "      padding: 0 0 0 0;\n",
       "      width: 32px;\n",
       "    }\n",
       "\n",
       "    .colab-df-convert:hover {\n",
       "      background-color: #E2EBFA;\n",
       "      box-shadow: 0px 1px 2px rgba(60, 64, 67, 0.3), 0px 1px 3px 1px rgba(60, 64, 67, 0.15);\n",
       "      fill: #174EA6;\n",
       "    }\n",
       "\n",
       "    .colab-df-buttons div {\n",
       "      margin-bottom: 4px;\n",
       "    }\n",
       "\n",
       "    [theme=dark] .colab-df-convert {\n",
       "      background-color: #3B4455;\n",
       "      fill: #D2E3FC;\n",
       "    }\n",
       "\n",
       "    [theme=dark] .colab-df-convert:hover {\n",
       "      background-color: #434B5C;\n",
       "      box-shadow: 0px 1px 3px 1px rgba(0, 0, 0, 0.15);\n",
       "      filter: drop-shadow(0px 1px 2px rgba(0, 0, 0, 0.3));\n",
       "      fill: #FFFFFF;\n",
       "    }\n",
       "  </style>\n",
       "\n",
       "    <script>\n",
       "      const buttonEl =\n",
       "        document.querySelector('#df-35b6062c-fbfe-40be-a052-d5ef4360803d button.colab-df-convert');\n",
       "      buttonEl.style.display =\n",
       "        google.colab.kernel.accessAllowed ? 'block' : 'none';\n",
       "\n",
       "      async function convertToInteractive(key) {\n",
       "        const element = document.querySelector('#df-35b6062c-fbfe-40be-a052-d5ef4360803d');\n",
       "        const dataTable =\n",
       "          await google.colab.kernel.invokeFunction('convertToInteractive',\n",
       "                                                    [key], {});\n",
       "        if (!dataTable) return;\n",
       "\n",
       "        const docLinkHtml = 'Like what you see? Visit the ' +\n",
       "          '<a target=\"_blank\" href=https://colab.research.google.com/notebooks/data_table.ipynb>data table notebook</a>'\n",
       "          + ' to learn more about interactive tables.';\n",
       "        element.innerHTML = '';\n",
       "        dataTable['output_type'] = 'display_data';\n",
       "        await google.colab.output.renderOutput(dataTable, element);\n",
       "        const docLink = document.createElement('div');\n",
       "        docLink.innerHTML = docLinkHtml;\n",
       "        element.appendChild(docLink);\n",
       "      }\n",
       "    </script>\n",
       "  </div>\n",
       "\n",
       "\n",
       "<div id=\"df-b53e0672-8def-4387-90f4-9eee49f6e9c1\">\n",
       "  <button class=\"colab-df-quickchart\" onclick=\"quickchart('df-b53e0672-8def-4387-90f4-9eee49f6e9c1')\"\n",
       "            title=\"Suggest charts\"\n",
       "            style=\"display:none;\">\n",
       "\n",
       "<svg xmlns=\"http://www.w3.org/2000/svg\" height=\"24px\"viewBox=\"0 0 24 24\"\n",
       "     width=\"24px\">\n",
       "    <g>\n",
       "        <path d=\"M19 3H5c-1.1 0-2 .9-2 2v14c0 1.1.9 2 2 2h14c1.1 0 2-.9 2-2V5c0-1.1-.9-2-2-2zM9 17H7v-7h2v7zm4 0h-2V7h2v10zm4 0h-2v-4h2v4z\"/>\n",
       "    </g>\n",
       "</svg>\n",
       "  </button>\n",
       "\n",
       "<style>\n",
       "  .colab-df-quickchart {\n",
       "      --bg-color: #E8F0FE;\n",
       "      --fill-color: #1967D2;\n",
       "      --hover-bg-color: #E2EBFA;\n",
       "      --hover-fill-color: #174EA6;\n",
       "      --disabled-fill-color: #AAA;\n",
       "      --disabled-bg-color: #DDD;\n",
       "  }\n",
       "\n",
       "  [theme=dark] .colab-df-quickchart {\n",
       "      --bg-color: #3B4455;\n",
       "      --fill-color: #D2E3FC;\n",
       "      --hover-bg-color: #434B5C;\n",
       "      --hover-fill-color: #FFFFFF;\n",
       "      --disabled-bg-color: #3B4455;\n",
       "      --disabled-fill-color: #666;\n",
       "  }\n",
       "\n",
       "  .colab-df-quickchart {\n",
       "    background-color: var(--bg-color);\n",
       "    border: none;\n",
       "    border-radius: 50%;\n",
       "    cursor: pointer;\n",
       "    display: none;\n",
       "    fill: var(--fill-color);\n",
       "    height: 32px;\n",
       "    padding: 0;\n",
       "    width: 32px;\n",
       "  }\n",
       "\n",
       "  .colab-df-quickchart:hover {\n",
       "    background-color: var(--hover-bg-color);\n",
       "    box-shadow: 0 1px 2px rgba(60, 64, 67, 0.3), 0 1px 3px 1px rgba(60, 64, 67, 0.15);\n",
       "    fill: var(--button-hover-fill-color);\n",
       "  }\n",
       "\n",
       "  .colab-df-quickchart-complete:disabled,\n",
       "  .colab-df-quickchart-complete:disabled:hover {\n",
       "    background-color: var(--disabled-bg-color);\n",
       "    fill: var(--disabled-fill-color);\n",
       "    box-shadow: none;\n",
       "  }\n",
       "\n",
       "  .colab-df-spinner {\n",
       "    border: 2px solid var(--fill-color);\n",
       "    border-color: transparent;\n",
       "    border-bottom-color: var(--fill-color);\n",
       "    animation:\n",
       "      spin 1s steps(1) infinite;\n",
       "  }\n",
       "\n",
       "  @keyframes spin {\n",
       "    0% {\n",
       "      border-color: transparent;\n",
       "      border-bottom-color: var(--fill-color);\n",
       "      border-left-color: var(--fill-color);\n",
       "    }\n",
       "    20% {\n",
       "      border-color: transparent;\n",
       "      border-left-color: var(--fill-color);\n",
       "      border-top-color: var(--fill-color);\n",
       "    }\n",
       "    30% {\n",
       "      border-color: transparent;\n",
       "      border-left-color: var(--fill-color);\n",
       "      border-top-color: var(--fill-color);\n",
       "      border-right-color: var(--fill-color);\n",
       "    }\n",
       "    40% {\n",
       "      border-color: transparent;\n",
       "      border-right-color: var(--fill-color);\n",
       "      border-top-color: var(--fill-color);\n",
       "    }\n",
       "    60% {\n",
       "      border-color: transparent;\n",
       "      border-right-color: var(--fill-color);\n",
       "    }\n",
       "    80% {\n",
       "      border-color: transparent;\n",
       "      border-right-color: var(--fill-color);\n",
       "      border-bottom-color: var(--fill-color);\n",
       "    }\n",
       "    90% {\n",
       "      border-color: transparent;\n",
       "      border-bottom-color: var(--fill-color);\n",
       "    }\n",
       "  }\n",
       "</style>\n",
       "\n",
       "  <script>\n",
       "    async function quickchart(key) {\n",
       "      const quickchartButtonEl =\n",
       "        document.querySelector('#' + key + ' button');\n",
       "      quickchartButtonEl.disabled = true;  // To prevent multiple clicks.\n",
       "      quickchartButtonEl.classList.add('colab-df-spinner');\n",
       "      try {\n",
       "        const charts = await google.colab.kernel.invokeFunction(\n",
       "            'suggestCharts', [key], {});\n",
       "      } catch (error) {\n",
       "        console.error('Error during call to suggestCharts:', error);\n",
       "      }\n",
       "      quickchartButtonEl.classList.remove('colab-df-spinner');\n",
       "      quickchartButtonEl.classList.add('colab-df-quickchart-complete');\n",
       "    }\n",
       "    (() => {\n",
       "      let quickchartButtonEl =\n",
       "        document.querySelector('#df-b53e0672-8def-4387-90f4-9eee49f6e9c1 button');\n",
       "      quickchartButtonEl.style.display =\n",
       "        google.colab.kernel.accessAllowed ? 'block' : 'none';\n",
       "    })();\n",
       "  </script>\n",
       "</div>\n",
       "    </div>\n",
       "  </div>\n"
      ],
      "text/plain": [
       "       значение признака     РП        %РП     ВП        %ВП   хи-квадрат  \\\n",
       "0     +инкрементальность  21697  69.034968   9732  30.965032  4829.392390   \n",
       "1     -инкрементальность   1669  24.048991   5271  75.951009          NaN   \n",
       "2                    +СД  18143  74.971074   6057  25.028926  5448.765280   \n",
       "3                    -СД   5223  36.862164   8946  63.137836          NaN   \n",
       "4           +ингестивный   7232  71.469513   2887  28.530487   644.401240   \n",
       "5           -ингестивный  16134  57.111504  12116  42.888496          NaN   \n",
       "6    +большое количество   5731  84.727972   1033  15.272028  1957.041017   \n",
       "7    -большое количество  17635  55.798133  13970  44.201867          NaN   \n",
       "8   +экспериенциальность    622  67.903930    294  32.096070    19.041905   \n",
       "9   -экспериенциальность  22744  60.726778  14709  39.273222          NaN   \n",
       "10          +перемещение   4698  47.797334   5131  52.202666   951.681717   \n",
       "11          -перемещение  18668  65.409951   9872  34.590049          NaN   \n",
       "12        +приготовление   1071  52.448580    971  47.551420    64.291074   \n",
       "13        -приготовление  22295  61.373083  14032  38.626917          NaN   \n",
       "\n",
       "          p-value  \n",
       "0    0.000000e+00  \n",
       "1             NaN  \n",
       "2    0.000000e+00  \n",
       "3             NaN  \n",
       "4   3.687561e-142  \n",
       "5             NaN  \n",
       "6    0.000000e+00  \n",
       "7             NaN  \n",
       "8    1.278791e-05  \n",
       "9             NaN  \n",
       "10  5.717154e-209  \n",
       "11            NaN  \n",
       "12   1.073309e-15  \n",
       "13            NaN  "
      ]
     },
     "execution_count": 34,
     "metadata": {},
     "output_type": "execute_result"
    }
   ],
   "source": [
    "chi_square_table_"
   ]
  },
  {
   "cell_type": "markdown",
   "metadata": {
    "id": "OEmpt_VTQpra"
   },
   "source": [
    "**Вывод:** такие признаки, как инкрементальность, принадлежность к СД, ингестивным и экспериенциальным глаголам и большое количество объекта повышают вероятность употребления род. падежа, а приготовление/обработка и перемещение/передача – вин. падежа."
   ]
  }
 ],
 "metadata": {
  "ExecuteTimeLog": [
   {
    "duration": 885,
    "start_time": "2023-02-04T11:10:34.352Z"
   },
   {
    "duration": 1577,
    "start_time": "2023-02-18T14:39:37.147Z"
   },
   {
    "duration": 24,
    "start_time": "2023-02-18T14:40:59.961Z"
   },
   {
    "duration": 2259,
    "start_time": "2023-02-18T14:41:39.518Z"
   },
   {
    "duration": 94,
    "start_time": "2023-02-18T14:42:41.776Z"
   },
   {
    "duration": 169,
    "start_time": "2023-02-18T14:43:35.696Z"
   },
   {
    "duration": 174,
    "start_time": "2023-02-18T14:44:04.337Z"
   },
   {
    "duration": 181,
    "start_time": "2023-02-18T14:45:08.061Z"
   },
   {
    "duration": 164,
    "start_time": "2023-02-18T14:45:12.282Z"
   },
   {
    "duration": 6,
    "start_time": "2023-02-18T14:45:24.644Z"
   },
   {
    "duration": 383,
    "start_time": "2023-02-18T14:45:35.568Z"
   },
   {
    "duration": 225,
    "start_time": "2023-02-18T14:45:47.680Z"
   },
   {
    "duration": 154,
    "start_time": "2023-02-18T15:03:05.683Z"
   },
   {
    "duration": 6,
    "start_time": "2023-02-18T15:03:08.494Z"
   },
   {
    "duration": 263,
    "start_time": "2023-02-18T15:03:08.830Z"
   },
   {
    "duration": 172,
    "start_time": "2023-02-18T15:03:36.317Z"
   },
   {
    "duration": 9,
    "start_time": "2023-02-18T15:05:22.959Z"
   },
   {
    "duration": 10,
    "start_time": "2023-02-18T15:06:48.291Z"
   },
   {
    "duration": 60,
    "start_time": "2023-02-18T15:08:33.983Z"
   },
   {
    "duration": 405,
    "start_time": "2023-02-18T15:09:50.383Z"
   },
   {
    "duration": 45,
    "start_time": "2023-02-18T17:15:20.502Z"
   },
   {
    "duration": 45,
    "start_time": "2023-02-18T17:16:22.919Z"
   },
   {
    "duration": 127,
    "start_time": "2023-02-18T17:17:12.007Z"
   },
   {
    "duration": 130,
    "start_time": "2023-02-18T17:17:43.186Z"
   },
   {
    "duration": 15,
    "start_time": "2023-02-18T17:17:44.255Z"
   },
   {
    "duration": 2178,
    "start_time": "2023-02-18T17:17:44.946Z"
   },
   {
    "duration": 76,
    "start_time": "2023-02-18T17:17:47.137Z"
   },
   {
    "duration": 185,
    "start_time": "2023-02-18T17:17:47.215Z"
   },
   {
    "duration": 170,
    "start_time": "2023-02-18T17:17:47.402Z"
   },
   {
    "duration": 5,
    "start_time": "2023-02-18T17:17:47.573Z"
   },
   {
    "duration": 437,
    "start_time": "2023-02-18T17:17:47.810Z"
   },
   {
    "duration": 204,
    "start_time": "2023-02-18T17:17:48.249Z"
   },
   {
    "duration": 177,
    "start_time": "2023-02-18T17:17:48.463Z"
   },
   {
    "duration": 6,
    "start_time": "2023-02-18T17:17:51.819Z"
   },
   {
    "duration": 10,
    "start_time": "2023-02-18T17:17:53.167Z"
   },
   {
    "duration": 61,
    "start_time": "2023-02-18T17:17:54.539Z"
   },
   {
    "duration": 91,
    "start_time": "2023-02-18T17:17:58.328Z"
   },
   {
    "duration": 74,
    "start_time": "2023-02-18T17:19:40.013Z"
   },
   {
    "duration": 54,
    "start_time": "2023-02-18T18:25:14.860Z"
   },
   {
    "duration": 133,
    "start_time": "2023-02-18T18:25:40.801Z"
   },
   {
    "duration": 14,
    "start_time": "2023-02-18T18:25:41.632Z"
   },
   {
    "duration": 2547,
    "start_time": "2023-02-18T18:25:42.160Z"
   },
   {
    "duration": 83,
    "start_time": "2023-02-18T18:25:46.706Z"
   },
   {
    "duration": 184,
    "start_time": "2023-02-18T18:25:46.792Z"
   },
   {
    "duration": 176,
    "start_time": "2023-02-18T18:25:49.269Z"
   },
   {
    "duration": 6,
    "start_time": "2023-02-18T18:25:49.447Z"
   },
   {
    "duration": 279,
    "start_time": "2023-02-18T18:25:49.455Z"
   },
   {
    "duration": 216,
    "start_time": "2023-02-18T18:25:49.736Z"
   },
   {
    "duration": 193,
    "start_time": "2023-02-18T18:25:49.955Z"
   },
   {
    "duration": 8,
    "start_time": "2023-02-18T18:25:50.150Z"
   },
   {
    "duration": 18,
    "start_time": "2023-02-18T18:25:50.160Z"
   },
   {
    "duration": 89,
    "start_time": "2023-02-18T18:25:50.180Z"
   },
   {
    "duration": 74,
    "start_time": "2023-02-18T18:25:53.275Z"
   },
   {
    "duration": 978,
    "start_time": "2023-02-19T16:53:11.789Z"
   },
   {
    "duration": 24,
    "start_time": "2023-02-19T16:53:15.130Z"
   },
   {
    "duration": 1979,
    "start_time": "2023-02-19T16:53:16.717Z"
   },
   {
    "duration": 70,
    "start_time": "2023-02-19T16:53:18.981Z"
   },
   {
    "duration": 133,
    "start_time": "2023-02-19T16:53:20.673Z"
   },
   {
    "duration": 199,
    "start_time": "2023-02-19T16:53:22.361Z"
   },
   {
    "duration": 4,
    "start_time": "2023-02-19T16:53:24.410Z"
   },
   {
    "duration": 216,
    "start_time": "2023-02-19T16:53:26.136Z"
   },
   {
    "duration": 231,
    "start_time": "2023-02-19T16:53:27.855Z"
   },
   {
    "duration": 157,
    "start_time": "2023-02-19T16:53:29.459Z"
   },
   {
    "duration": 7,
    "start_time": "2023-02-19T16:53:36.566Z"
   },
   {
    "duration": 9,
    "start_time": "2023-02-19T16:53:43.084Z"
   },
   {
    "duration": 242,
    "start_time": "2023-02-19T17:07:21.226Z"
   },
   {
    "duration": 73,
    "start_time": "2023-02-19T17:08:25.905Z"
   },
   {
    "duration": 65,
    "start_time": "2023-02-19T17:09:33.084Z"
   },
   {
    "duration": 13,
    "start_time": "2023-02-19T17:11:35.343Z"
   },
   {
    "duration": 10,
    "start_time": "2023-02-19T17:12:01.198Z"
   },
   {
    "duration": 53,
    "start_time": "2023-02-19T17:12:17.656Z"
   },
   {
    "duration": 12,
    "start_time": "2023-02-19T17:12:42.836Z"
   },
   {
    "duration": 9,
    "start_time": "2023-02-19T17:13:47.521Z"
   },
   {
    "duration": 7,
    "start_time": "2023-02-19T17:14:07.834Z"
   },
   {
    "duration": 8,
    "start_time": "2023-02-19T17:15:30.454Z"
   },
   {
    "duration": 53,
    "start_time": "2023-02-19T17:16:34.240Z"
   },
   {
    "duration": 11,
    "start_time": "2023-02-19T17:16:56.618Z"
   },
   {
    "duration": 1560,
    "start_time": "2023-02-19T17:20:13.797Z"
   },
   {
    "duration": 1613,
    "start_time": "2023-02-19T17:20:37.941Z"
   },
   {
    "duration": 415,
    "start_time": "2023-02-19T17:30:33.672Z"
   },
   {
    "duration": 547,
    "start_time": "2023-02-19T17:31:27.574Z"
   },
   {
    "duration": 431,
    "start_time": "2023-02-19T17:32:36.108Z"
   },
   {
    "duration": 408,
    "start_time": "2023-02-19T17:33:55.935Z"
   },
   {
    "duration": 517,
    "start_time": "2023-02-19T17:34:12.985Z"
   },
   {
    "duration": 408,
    "start_time": "2023-02-19T17:34:19.626Z"
   },
   {
    "duration": 431,
    "start_time": "2023-02-19T17:35:24.017Z"
   },
   {
    "duration": 653,
    "start_time": "2023-02-19T17:38:11.779Z"
   },
   {
    "duration": 539,
    "start_time": "2023-02-19T17:39:28.733Z"
   },
   {
    "duration": 3,
    "start_time": "2023-02-19T17:57:01.765Z"
   },
   {
    "duration": 1076,
    "start_time": "2023-02-19T18:30:32.485Z"
   },
   {
    "duration": 393,
    "start_time": "2023-02-19T18:30:55.866Z"
   },
   {
    "duration": 111,
    "start_time": "2023-02-19T18:31:26.536Z"
   },
   {
    "duration": 15,
    "start_time": "2023-02-19T18:31:28.131Z"
   },
   {
    "duration": 1872,
    "start_time": "2023-02-19T18:31:29.108Z"
   },
   {
    "duration": 157,
    "start_time": "2023-02-19T18:31:32.154Z"
   },
   {
    "duration": 137,
    "start_time": "2023-02-19T18:31:35.839Z"
   },
   {
    "duration": 136,
    "start_time": "2023-02-19T18:31:37.100Z"
   },
   {
    "duration": 5,
    "start_time": "2023-02-19T18:31:37.649Z"
   },
   {
    "duration": 211,
    "start_time": "2023-02-19T18:31:38.619Z"
   },
   {
    "duration": 195,
    "start_time": "2023-02-19T18:31:39.463Z"
   },
   {
    "duration": 154,
    "start_time": "2023-02-19T18:31:40.261Z"
   },
   {
    "duration": 7,
    "start_time": "2023-02-19T18:31:47.019Z"
   },
   {
    "duration": 10,
    "start_time": "2023-02-19T18:31:50.995Z"
   },
   {
    "duration": 59,
    "start_time": "2023-02-19T18:31:52.509Z"
   },
   {
    "duration": 14,
    "start_time": "2023-02-19T18:31:54.219Z"
   },
   {
    "duration": 11,
    "start_time": "2023-02-19T18:31:54.754Z"
   },
   {
    "duration": 14,
    "start_time": "2023-02-19T18:31:55.751Z"
   },
   {
    "duration": 8,
    "start_time": "2023-02-19T18:31:57.056Z"
   },
   {
    "duration": 7,
    "start_time": "2023-02-19T18:31:58.090Z"
   },
   {
    "duration": 11,
    "start_time": "2023-02-19T18:31:59.133Z"
   },
   {
    "duration": 56,
    "start_time": "2023-02-19T18:32:00.461Z"
   },
   {
    "duration": 8,
    "start_time": "2023-02-19T18:32:01.923Z"
   },
   {
    "duration": 1684,
    "start_time": "2023-02-19T18:32:06.053Z"
   },
   {
    "duration": 595,
    "start_time": "2023-02-19T18:32:19.721Z"
   },
   {
    "duration": 558,
    "start_time": "2023-02-19T18:32:21.463Z"
   },
   {
    "duration": 3,
    "start_time": "2023-02-19T18:32:22.689Z"
   },
   {
    "duration": 334,
    "start_time": "2023-02-19T18:32:34.549Z"
   },
   {
    "duration": 325,
    "start_time": "2023-02-19T18:33:26.335Z"
   },
   {
    "duration": 106,
    "start_time": "2023-02-19T18:34:20.893Z"
   },
   {
    "duration": 13,
    "start_time": "2023-02-19T18:34:21.627Z"
   },
   {
    "duration": 1999,
    "start_time": "2023-02-19T18:34:22.273Z"
   },
   {
    "duration": 107,
    "start_time": "2023-02-19T18:34:24.276Z"
   },
   {
    "duration": 149,
    "start_time": "2023-02-19T18:34:24.385Z"
   },
   {
    "duration": 146,
    "start_time": "2023-02-19T18:34:24.536Z"
   },
   {
    "duration": 5,
    "start_time": "2023-02-19T18:34:24.683Z"
   },
   {
    "duration": 216,
    "start_time": "2023-02-19T18:34:24.795Z"
   },
   {
    "duration": 178,
    "start_time": "2023-02-19T18:34:25.071Z"
   },
   {
    "duration": 147,
    "start_time": "2023-02-19T18:34:25.366Z"
   },
   {
    "duration": 6,
    "start_time": "2023-02-19T18:34:27.974Z"
   },
   {
    "duration": 9,
    "start_time": "2023-02-19T18:34:28.851Z"
   },
   {
    "duration": 191,
    "start_time": "2023-02-19T18:34:29.692Z"
   },
   {
    "duration": 14,
    "start_time": "2023-02-19T18:34:34.373Z"
   },
   {
    "duration": 12,
    "start_time": "2023-02-19T18:34:34.853Z"
   },
   {
    "duration": 13,
    "start_time": "2023-02-19T18:34:35.901Z"
   },
   {
    "duration": 7,
    "start_time": "2023-02-19T18:34:37.674Z"
   },
   {
    "duration": 9,
    "start_time": "2023-02-19T18:34:39.870Z"
   },
   {
    "duration": 10,
    "start_time": "2023-02-19T18:34:40.902Z"
   },
   {
    "duration": 54,
    "start_time": "2023-02-19T18:34:43.485Z"
   },
   {
    "duration": 10,
    "start_time": "2023-02-19T18:34:44.216Z"
   },
   {
    "duration": 1662,
    "start_time": "2023-02-19T18:35:30.627Z"
   },
   {
    "duration": 423,
    "start_time": "2023-02-19T18:37:03.615Z"
   },
   {
    "duration": 594,
    "start_time": "2023-02-19T18:37:32.700Z"
   },
   {
    "duration": 317,
    "start_time": "2023-02-19T18:38:34.029Z"
   },
   {
    "duration": 316,
    "start_time": "2023-02-19T18:39:11.800Z"
   },
   {
    "duration": 45,
    "start_time": "2023-02-19T18:44:17.480Z"
   },
   {
    "duration": 463,
    "start_time": "2023-02-19T18:45:29.579Z"
   },
   {
    "duration": 362,
    "start_time": "2023-02-19T18:46:14.322Z"
   },
   {
    "duration": 300,
    "start_time": "2023-02-19T19:03:02.522Z"
   },
   {
    "duration": 299,
    "start_time": "2023-02-19T19:03:39.843Z"
   },
   {
    "duration": 302,
    "start_time": "2023-02-19T19:03:54.606Z"
   },
   {
    "duration": 294,
    "start_time": "2023-02-19T19:05:21.230Z"
   },
   {
    "duration": 825,
    "start_time": "2023-02-24T22:07:50.805Z"
   },
   {
    "duration": 25,
    "start_time": "2023-02-24T22:07:51.639Z"
   },
   {
    "duration": 2361,
    "start_time": "2023-02-24T22:07:51.666Z"
   },
   {
    "duration": 80,
    "start_time": "2023-02-24T22:07:54.039Z"
   },
   {
    "duration": 185,
    "start_time": "2023-02-24T22:07:54.121Z"
   },
   {
    "duration": 180,
    "start_time": "2023-02-24T22:07:54.309Z"
   },
   {
    "duration": 6,
    "start_time": "2023-02-24T22:07:54.490Z"
   },
   {
    "duration": 294,
    "start_time": "2023-02-24T22:07:54.497Z"
   },
   {
    "duration": 316,
    "start_time": "2023-02-24T22:07:54.793Z"
   },
   {
    "duration": 206,
    "start_time": "2023-02-24T22:07:55.112Z"
   },
   {
    "duration": 23,
    "start_time": "2023-02-24T22:07:55.320Z"
   },
   {
    "duration": 15,
    "start_time": "2023-02-24T22:07:55.344Z"
   },
   {
    "duration": 94,
    "start_time": "2023-02-24T22:07:55.361Z"
   },
   {
    "duration": 16,
    "start_time": "2023-02-24T22:07:55.457Z"
   },
   {
    "duration": 11,
    "start_time": "2023-02-24T22:07:55.475Z"
   },
   {
    "duration": 14,
    "start_time": "2023-02-24T22:07:55.488Z"
   },
   {
    "duration": 8,
    "start_time": "2023-02-24T22:07:55.503Z"
   },
   {
    "duration": 15,
    "start_time": "2023-02-24T22:07:55.542Z"
   },
   {
    "duration": 13,
    "start_time": "2023-02-24T22:07:55.559Z"
   },
   {
    "duration": 95,
    "start_time": "2023-02-24T22:07:55.574Z"
   },
   {
    "duration": 9,
    "start_time": "2023-02-24T22:07:55.671Z"
   },
   {
    "duration": 2309,
    "start_time": "2023-02-24T22:07:55.681Z"
   },
   {
    "duration": 582,
    "start_time": "2023-02-24T22:07:57.992Z"
   },
   {
    "duration": 947,
    "start_time": "2023-02-24T22:07:58.576Z"
   },
   {
    "duration": 634,
    "start_time": "2023-02-24T22:07:59.525Z"
   },
   {
    "duration": 468,
    "start_time": "2023-02-24T22:08:00.161Z"
   },
   {
    "duration": 492,
    "start_time": "2023-02-24T22:08:00.631Z"
   },
   {
    "duration": 227,
    "start_time": "2023-02-24T22:08:01.128Z"
   },
   {
    "duration": 473,
    "start_time": "2023-02-24T22:08:01.357Z"
   },
   {
    "duration": 356,
    "start_time": "2023-02-24T22:08:01.839Z"
   },
   {
    "duration": 261,
    "start_time": "2023-02-24T22:08:02.197Z"
   },
   {
    "duration": 268,
    "start_time": "2023-02-24T22:08:02.460Z"
   },
   {
    "duration": 299,
    "start_time": "2023-02-24T22:08:02.729Z"
   },
   {
    "duration": 267,
    "start_time": "2023-02-24T22:08:03.029Z"
   },
   {
    "duration": 160,
    "start_time": "2023-02-24T22:08:03.298Z"
   },
   {
    "duration": 157,
    "start_time": "2023-02-24T22:08:03.460Z"
   },
   {
    "duration": 276,
    "start_time": "2023-02-24T22:08:03.620Z"
   },
   {
    "duration": 193,
    "start_time": "2023-02-24T22:08:03.898Z"
   },
   {
    "duration": 203,
    "start_time": "2023-02-24T22:08:04.093Z"
   },
   {
    "duration": 205,
    "start_time": "2023-02-24T22:08:04.299Z"
   },
   {
    "duration": 225,
    "start_time": "2023-02-24T22:08:04.506Z"
   },
   {
    "duration": 166,
    "start_time": "2023-02-24T22:08:04.733Z"
   },
   {
    "duration": 157,
    "start_time": "2023-02-24T22:08:04.901Z"
   },
   {
    "duration": 692,
    "start_time": "2023-02-24T22:08:05.061Z"
   },
   {
    "duration": 243,
    "start_time": "2023-02-24T22:08:05.755Z"
   },
   {
    "duration": 366,
    "start_time": "2023-02-24T22:08:06.000Z"
   },
   {
    "duration": 197,
    "start_time": "2023-02-24T22:08:06.368Z"
   },
   {
    "duration": 196,
    "start_time": "2023-02-24T22:08:06.567Z"
   },
   {
    "duration": 237,
    "start_time": "2023-02-24T22:08:06.765Z"
   },
   {
    "duration": 235,
    "start_time": "2023-02-24T22:08:07.004Z"
   },
   {
    "duration": 191,
    "start_time": "2023-02-24T22:08:07.249Z"
   },
   {
    "duration": 188,
    "start_time": "2023-02-24T22:08:07.444Z"
   },
   {
    "duration": 270,
    "start_time": "2023-02-24T22:08:07.633Z"
   },
   {
    "duration": 267,
    "start_time": "2023-02-24T22:08:07.905Z"
   },
   {
    "duration": 185,
    "start_time": "2023-02-24T22:08:08.174Z"
   },
   {
    "duration": 195,
    "start_time": "2023-02-24T22:08:08.361Z"
   },
   {
    "duration": 194,
    "start_time": "2023-02-24T22:08:08.558Z"
   },
   {
    "duration": 229,
    "start_time": "2023-02-24T22:08:08.754Z"
   },
   {
    "duration": 207,
    "start_time": "2023-02-24T22:08:08.986Z"
   },
   {
    "duration": 172,
    "start_time": "2023-02-24T22:08:09.195Z"
   },
   {
    "duration": 200,
    "start_time": "2023-02-24T22:08:09.369Z"
   },
   {
    "duration": 185,
    "start_time": "2023-02-24T22:08:09.571Z"
   },
   {
    "duration": 200,
    "start_time": "2023-02-24T22:08:09.758Z"
   },
   {
    "duration": 179,
    "start_time": "2023-02-24T22:08:09.959Z"
   },
   {
    "duration": 318,
    "start_time": "2023-02-24T22:08:10.145Z"
   },
   {
    "duration": 193,
    "start_time": "2023-02-24T22:08:10.465Z"
   },
   {
    "duration": 36,
    "start_time": "2023-02-24T22:08:10.660Z"
   },
   {
    "duration": 427,
    "start_time": "2023-02-24T22:08:10.698Z"
   },
   {
    "duration": 25,
    "start_time": "2023-02-24T22:08:11.126Z"
   },
   {
    "duration": 16,
    "start_time": "2023-02-24T22:14:06.314Z"
   },
   {
    "duration": 113,
    "start_time": "2023-02-24T22:14:09.879Z"
   },
   {
    "duration": 449,
    "start_time": "2023-02-24T22:16:48.335Z"
   },
   {
    "duration": 103,
    "start_time": "2023-02-24T22:17:00.011Z"
   },
   {
    "duration": 440,
    "start_time": "2023-02-24T22:17:03.866Z"
   },
   {
    "duration": 107,
    "start_time": "2023-02-25T08:19:42.288Z"
   },
   {
    "duration": 1064,
    "start_time": "2023-02-25T08:20:08.434Z"
   },
   {
    "duration": 17,
    "start_time": "2023-02-25T08:20:14.788Z"
   },
   {
    "duration": 2450,
    "start_time": "2023-02-25T08:20:20.416Z"
   },
   {
    "duration": 2693,
    "start_time": "2023-02-25T08:21:39.011Z"
   },
   {
    "duration": 122,
    "start_time": "2023-02-25T08:21:55.051Z"
   },
   {
    "duration": 203,
    "start_time": "2023-02-25T08:22:00.164Z"
   },
   {
    "duration": 235,
    "start_time": "2023-02-25T08:22:03.704Z"
   },
   {
    "duration": 7,
    "start_time": "2023-02-25T08:22:05.773Z"
   },
   {
    "duration": 399,
    "start_time": "2023-02-25T08:22:07.489Z"
   },
   {
    "duration": 369,
    "start_time": "2023-02-25T08:22:11.798Z"
   },
   {
    "duration": 230,
    "start_time": "2023-02-25T08:22:14.675Z"
   },
   {
    "duration": 11,
    "start_time": "2023-02-25T08:22:32.882Z"
   },
   {
    "duration": 18,
    "start_time": "2023-02-25T08:22:58.054Z"
   },
   {
    "duration": 28,
    "start_time": "2023-02-25T08:25:51.668Z"
   },
   {
    "duration": 138,
    "start_time": "2023-02-25T08:25:53.745Z"
   },
   {
    "duration": 209,
    "start_time": "2023-02-25T08:26:25.475Z"
   },
   {
    "duration": 36,
    "start_time": "2023-02-25T08:26:26.695Z"
   },
   {
    "duration": 2427,
    "start_time": "2023-02-25T08:26:27.671Z"
   },
   {
    "duration": 139,
    "start_time": "2023-02-25T08:26:30.100Z"
   },
   {
    "duration": 291,
    "start_time": "2023-02-25T08:26:30.780Z"
   },
   {
    "duration": 252,
    "start_time": "2023-02-25T08:26:31.634Z"
   },
   {
    "duration": 6,
    "start_time": "2023-02-25T08:26:32.095Z"
   },
   {
    "duration": 429,
    "start_time": "2023-02-25T08:26:32.935Z"
   },
   {
    "duration": 247,
    "start_time": "2023-02-25T08:26:35.275Z"
   },
   {
    "duration": 285,
    "start_time": "2023-02-25T08:26:35.801Z"
   },
   {
    "duration": 15,
    "start_time": "2023-02-25T08:26:38.436Z"
   },
   {
    "duration": 11,
    "start_time": "2023-02-25T08:26:41.082Z"
   },
   {
    "duration": 97,
    "start_time": "2023-02-25T08:26:44.086Z"
   },
   {
    "duration": 44,
    "start_time": "2023-02-25T08:26:50.903Z"
   },
   {
    "duration": 58,
    "start_time": "2023-02-25T08:26:56.768Z"
   },
   {
    "duration": 22,
    "start_time": "2023-02-25T08:27:03.582Z"
   },
   {
    "duration": 19,
    "start_time": "2023-02-25T08:31:34.600Z"
   },
   {
    "duration": 21,
    "start_time": "2023-02-25T08:31:37.596Z"
   },
   {
    "duration": 15,
    "start_time": "2023-02-25T08:32:40.236Z"
   },
   {
    "duration": 233,
    "start_time": "2023-02-25T08:33:24.672Z"
   },
   {
    "duration": 41,
    "start_time": "2023-02-25T08:33:24.906Z"
   },
   {
    "duration": 2951,
    "start_time": "2023-02-25T08:33:24.959Z"
   },
   {
    "duration": 105,
    "start_time": "2023-02-25T08:33:27.914Z"
   },
   {
    "duration": 220,
    "start_time": "2023-02-25T08:33:28.026Z"
   },
   {
    "duration": 348,
    "start_time": "2023-02-25T08:33:28.254Z"
   },
   {
    "duration": 9,
    "start_time": "2023-02-25T08:33:28.609Z"
   },
   {
    "duration": 516,
    "start_time": "2023-02-25T08:33:28.625Z"
   },
   {
    "duration": 315,
    "start_time": "2023-02-25T08:33:29.150Z"
   },
   {
    "duration": 249,
    "start_time": "2023-02-25T08:33:29.468Z"
   },
   {
    "duration": 8,
    "start_time": "2023-02-25T08:33:29.720Z"
   },
   {
    "duration": 78,
    "start_time": "2023-02-25T08:33:29.730Z"
   },
   {
    "duration": 227,
    "start_time": "2023-02-25T08:33:29.810Z"
   },
   {
    "duration": 133,
    "start_time": "2023-02-25T08:33:30.039Z"
   },
   {
    "duration": 178,
    "start_time": "2023-02-25T08:33:30.182Z"
   },
   {
    "duration": 201,
    "start_time": "2023-02-25T08:33:30.370Z"
   },
   {
    "duration": 21,
    "start_time": "2023-02-25T08:38:26.481Z"
   },
   {
    "duration": 27,
    "start_time": "2023-02-25T08:38:40.469Z"
   },
   {
    "duration": 33,
    "start_time": "2023-02-25T08:38:47.573Z"
   },
   {
    "duration": 20,
    "start_time": "2023-02-25T08:42:03.348Z"
   },
   {
    "duration": 25,
    "start_time": "2023-02-25T08:42:05.304Z"
   },
   {
    "duration": 22,
    "start_time": "2023-02-25T08:42:12.828Z"
   },
   {
    "duration": 163,
    "start_time": "2023-02-25T08:42:16.538Z"
   },
   {
    "duration": 11,
    "start_time": "2023-02-25T08:42:40.601Z"
   },
   {
    "duration": 2308,
    "start_time": "2023-02-25T08:42:55.280Z"
   },
   {
    "duration": 219,
    "start_time": "2023-02-25T08:43:59.689Z"
   },
   {
    "duration": 33,
    "start_time": "2023-02-25T08:43:59.920Z"
   },
   {
    "duration": 2994,
    "start_time": "2023-02-25T08:43:59.955Z"
   },
   {
    "duration": 116,
    "start_time": "2023-02-25T08:44:02.955Z"
   },
   {
    "duration": 338,
    "start_time": "2023-02-25T08:44:03.081Z"
   },
   {
    "duration": 290,
    "start_time": "2023-02-25T08:44:03.425Z"
   },
   {
    "duration": 22,
    "start_time": "2023-02-25T08:44:03.721Z"
   },
   {
    "duration": 808,
    "start_time": "2023-02-25T08:44:03.748Z"
   },
   {
    "duration": 305,
    "start_time": "2023-02-25T08:44:04.558Z"
   },
   {
    "duration": 327,
    "start_time": "2023-02-25T08:44:04.867Z"
   },
   {
    "duration": 7,
    "start_time": "2023-02-25T08:44:05.196Z"
   },
   {
    "duration": 144,
    "start_time": "2023-02-25T08:44:05.204Z"
   },
   {
    "duration": 247,
    "start_time": "2023-02-25T08:44:05.350Z"
   },
   {
    "duration": 24,
    "start_time": "2023-02-25T08:44:05.598Z"
   },
   {
    "duration": 95,
    "start_time": "2023-02-25T08:44:05.624Z"
   },
   {
    "duration": 100,
    "start_time": "2023-02-25T08:44:05.731Z"
   },
   {
    "duration": 138,
    "start_time": "2023-02-25T08:44:05.833Z"
   },
   {
    "duration": 53,
    "start_time": "2023-02-25T08:44:05.982Z"
   },
   {
    "duration": 64,
    "start_time": "2023-02-25T08:44:06.041Z"
   },
   {
    "duration": 85,
    "start_time": "2023-02-25T08:44:06.107Z"
   },
   {
    "duration": 149,
    "start_time": "2023-02-25T08:44:06.194Z"
   },
   {
    "duration": 11,
    "start_time": "2023-02-25T08:44:06.345Z"
   },
   {
    "duration": 3268,
    "start_time": "2023-02-25T08:54:24.467Z"
   },
   {
    "duration": 127,
    "start_time": "2023-02-25T08:55:03.668Z"
   },
   {
    "duration": 167,
    "start_time": "2023-02-25T08:55:18.538Z"
   },
   {
    "duration": 44,
    "start_time": "2023-02-25T08:55:18.707Z"
   },
   {
    "duration": 2875,
    "start_time": "2023-02-25T08:55:18.752Z"
   },
   {
    "duration": 273,
    "start_time": "2023-02-25T08:55:21.628Z"
   },
   {
    "duration": 285,
    "start_time": "2023-02-25T08:55:21.904Z"
   },
   {
    "duration": 189,
    "start_time": "2023-02-25T08:55:22.191Z"
   },
   {
    "duration": 6,
    "start_time": "2023-02-25T08:55:22.387Z"
   },
   {
    "duration": 270,
    "start_time": "2023-02-25T08:55:22.395Z"
   },
   {
    "duration": 228,
    "start_time": "2023-02-25T08:55:22.668Z"
   },
   {
    "duration": 267,
    "start_time": "2023-02-25T08:55:22.898Z"
   },
   {
    "duration": 21,
    "start_time": "2023-02-25T08:55:23.167Z"
   },
   {
    "duration": 104,
    "start_time": "2023-02-25T08:55:23.191Z"
   },
   {
    "duration": 152,
    "start_time": "2023-02-25T08:55:23.306Z"
   },
   {
    "duration": 26,
    "start_time": "2023-02-25T08:55:23.473Z"
   },
   {
    "duration": 15,
    "start_time": "2023-02-25T08:55:23.500Z"
   },
   {
    "duration": 60,
    "start_time": "2023-02-25T08:55:23.517Z"
   },
   {
    "duration": 54,
    "start_time": "2023-02-25T08:55:23.585Z"
   },
   {
    "duration": 54,
    "start_time": "2023-02-25T08:55:23.642Z"
   },
   {
    "duration": 8,
    "start_time": "2023-02-25T08:55:23.697Z"
   },
   {
    "duration": 81,
    "start_time": "2023-02-25T08:55:23.707Z"
   },
   {
    "duration": 97,
    "start_time": "2023-02-25T08:55:23.789Z"
   },
   {
    "duration": 9,
    "start_time": "2023-02-25T08:55:23.889Z"
   },
   {
    "duration": 2573,
    "start_time": "2023-02-25T08:55:32.333Z"
   },
   {
    "duration": 787,
    "start_time": "2023-02-25T08:58:49.480Z"
   },
   {
    "duration": 733,
    "start_time": "2023-02-25T08:59:15.382Z"
   },
   {
    "duration": 607,
    "start_time": "2023-02-25T08:59:23.701Z"
   },
   {
    "duration": 713,
    "start_time": "2023-02-25T08:59:38.149Z"
   },
   {
    "duration": 544,
    "start_time": "2023-02-25T08:59:58.359Z"
   },
   {
    "duration": 362,
    "start_time": "2023-02-25T09:00:16.586Z"
   },
   {
    "duration": 737,
    "start_time": "2023-02-25T09:10:03.528Z"
   },
   {
    "duration": 523,
    "start_time": "2023-02-25T09:11:27.079Z"
   },
   {
    "duration": 155,
    "start_time": "2023-02-25T09:17:19.335Z"
   },
   {
    "duration": 14,
    "start_time": "2023-02-25T09:17:19.492Z"
   },
   {
    "duration": 2239,
    "start_time": "2023-02-25T09:17:19.524Z"
   },
   {
    "duration": 279,
    "start_time": "2023-02-25T09:17:21.764Z"
   },
   {
    "duration": 177,
    "start_time": "2023-02-25T09:17:22.060Z"
   },
   {
    "duration": 213,
    "start_time": "2023-02-25T09:17:22.238Z"
   },
   {
    "duration": 8,
    "start_time": "2023-02-25T09:17:22.452Z"
   },
   {
    "duration": 317,
    "start_time": "2023-02-25T09:17:22.467Z"
   },
   {
    "duration": 216,
    "start_time": "2023-02-25T09:17:22.786Z"
   },
   {
    "duration": 260,
    "start_time": "2023-02-25T09:17:23.020Z"
   },
   {
    "duration": 53,
    "start_time": "2023-02-25T09:17:23.282Z"
   },
   {
    "duration": 63,
    "start_time": "2023-02-25T09:17:23.336Z"
   },
   {
    "duration": 89,
    "start_time": "2023-02-25T09:17:23.401Z"
   },
   {
    "duration": 13,
    "start_time": "2023-02-25T09:17:23.493Z"
   },
   {
    "duration": 38,
    "start_time": "2023-02-25T09:17:23.507Z"
   },
   {
    "duration": 34,
    "start_time": "2023-02-25T09:17:23.546Z"
   },
   {
    "duration": 23,
    "start_time": "2023-02-25T09:17:23.581Z"
   },
   {
    "duration": 41,
    "start_time": "2023-02-25T09:17:23.606Z"
   },
   {
    "duration": 30,
    "start_time": "2023-02-25T09:17:23.659Z"
   },
   {
    "duration": 17,
    "start_time": "2023-02-25T09:17:23.691Z"
   },
   {
    "duration": 160,
    "start_time": "2023-02-25T09:17:23.709Z"
   },
   {
    "duration": 8,
    "start_time": "2023-02-25T09:17:23.872Z"
   },
   {
    "duration": 2230,
    "start_time": "2023-02-25T09:17:23.881Z"
   },
   {
    "duration": 523,
    "start_time": "2023-02-25T09:17:26.112Z"
   },
   {
    "duration": 946,
    "start_time": "2023-02-25T09:17:26.636Z"
   },
   {
    "duration": 684,
    "start_time": "2023-02-25T09:17:27.584Z"
   },
   {
    "duration": 517,
    "start_time": "2023-02-25T09:17:28.270Z"
   },
   {
    "duration": 491,
    "start_time": "2023-02-25T09:17:28.788Z"
   },
   {
    "duration": 214,
    "start_time": "2023-02-25T09:17:29.281Z"
   },
   {
    "duration": 454,
    "start_time": "2023-02-25T09:17:29.497Z"
   },
   {
    "duration": 45,
    "start_time": "2023-02-25T09:32:41.452Z"
   },
   {
    "duration": 73,
    "start_time": "2023-02-25T09:33:04.078Z"
   },
   {
    "duration": 131,
    "start_time": "2023-02-25T09:33:09.952Z"
   },
   {
    "duration": 14,
    "start_time": "2023-02-25T09:33:10.085Z"
   },
   {
    "duration": 2242,
    "start_time": "2023-02-25T09:33:10.100Z"
   },
   {
    "duration": 75,
    "start_time": "2023-02-25T09:33:12.348Z"
   },
   {
    "duration": 167,
    "start_time": "2023-02-25T09:33:12.426Z"
   },
   {
    "duration": 273,
    "start_time": "2023-02-25T09:33:12.595Z"
   },
   {
    "duration": 5,
    "start_time": "2023-02-25T09:33:12.870Z"
   },
   {
    "duration": 302,
    "start_time": "2023-02-25T09:33:12.877Z"
   },
   {
    "duration": 291,
    "start_time": "2023-02-25T09:33:13.181Z"
   },
   {
    "duration": 382,
    "start_time": "2023-02-25T09:33:13.473Z"
   },
   {
    "duration": 8,
    "start_time": "2023-02-25T09:33:13.864Z"
   },
   {
    "duration": 12,
    "start_time": "2023-02-25T09:33:13.874Z"
   },
   {
    "duration": 80,
    "start_time": "2023-02-25T09:33:13.888Z"
   },
   {
    "duration": 13,
    "start_time": "2023-02-25T09:33:13.970Z"
   },
   {
    "duration": 11,
    "start_time": "2023-02-25T09:33:13.985Z"
   },
   {
    "duration": 39,
    "start_time": "2023-02-25T09:33:13.998Z"
   },
   {
    "duration": 56,
    "start_time": "2023-02-25T09:33:14.040Z"
   },
   {
    "duration": 7,
    "start_time": "2023-02-25T09:33:14.098Z"
   },
   {
    "duration": 60,
    "start_time": "2023-02-25T09:33:14.107Z"
   },
   {
    "duration": 14,
    "start_time": "2023-02-25T09:33:14.169Z"
   },
   {
    "duration": 137,
    "start_time": "2023-02-25T09:33:14.186Z"
   },
   {
    "duration": 9,
    "start_time": "2023-02-25T09:33:14.325Z"
   },
   {
    "duration": 2244,
    "start_time": "2023-02-25T09:33:14.336Z"
   },
   {
    "duration": 605,
    "start_time": "2023-02-25T09:33:16.581Z"
   },
   {
    "duration": 739,
    "start_time": "2023-02-25T09:33:17.188Z"
   },
   {
    "duration": 597,
    "start_time": "2023-02-25T09:33:17.940Z"
   },
   {
    "duration": 445,
    "start_time": "2023-02-25T09:33:18.548Z"
   },
   {
    "duration": 491,
    "start_time": "2023-02-25T09:33:18.995Z"
   },
   {
    "duration": 404,
    "start_time": "2023-02-25T09:33:19.487Z"
   },
   {
    "duration": 364,
    "start_time": "2023-02-25T09:33:19.893Z"
   },
   {
    "duration": 58,
    "start_time": "2023-02-25T09:33:28.141Z"
   },
   {
    "duration": 53,
    "start_time": "2023-02-25T09:33:46.741Z"
   },
   {
    "duration": 113,
    "start_time": "2023-02-25T09:33:55.681Z"
   },
   {
    "duration": 55,
    "start_time": "2023-02-25T09:34:09.562Z"
   },
   {
    "duration": 161,
    "start_time": "2023-02-25T09:35:00.404Z"
   },
   {
    "duration": 16,
    "start_time": "2023-02-25T09:35:00.567Z"
   },
   {
    "duration": 2262,
    "start_time": "2023-02-25T09:35:00.585Z"
   },
   {
    "duration": 287,
    "start_time": "2023-02-25T09:35:02.853Z"
   },
   {
    "duration": 221,
    "start_time": "2023-02-25T09:35:03.141Z"
   },
   {
    "duration": 184,
    "start_time": "2023-02-25T09:35:03.367Z"
   },
   {
    "duration": 6,
    "start_time": "2023-02-25T09:35:03.555Z"
   },
   {
    "duration": 294,
    "start_time": "2023-02-25T09:35:03.563Z"
   },
   {
    "duration": 193,
    "start_time": "2023-02-25T09:35:03.859Z"
   },
   {
    "duration": 192,
    "start_time": "2023-02-25T09:35:04.055Z"
   },
   {
    "duration": 11,
    "start_time": "2023-02-25T09:35:04.249Z"
   },
   {
    "duration": 14,
    "start_time": "2023-02-25T09:35:04.262Z"
   },
   {
    "duration": 68,
    "start_time": "2023-02-25T09:35:04.278Z"
   },
   {
    "duration": 15,
    "start_time": "2023-02-25T09:35:04.348Z"
   },
   {
    "duration": 14,
    "start_time": "2023-02-25T09:35:04.364Z"
   },
   {
    "duration": 42,
    "start_time": "2023-02-25T09:35:04.380Z"
   },
   {
    "duration": 32,
    "start_time": "2023-02-25T09:35:04.437Z"
   },
   {
    "duration": 22,
    "start_time": "2023-02-25T09:35:04.472Z"
   },
   {
    "duration": 12,
    "start_time": "2023-02-25T09:35:04.497Z"
   },
   {
    "duration": 49,
    "start_time": "2023-02-25T09:35:04.517Z"
   },
   {
    "duration": 85,
    "start_time": "2023-02-25T09:35:04.568Z"
   },
   {
    "duration": 10,
    "start_time": "2023-02-25T09:35:04.654Z"
   },
   {
    "duration": 2142,
    "start_time": "2023-02-25T09:35:04.666Z"
   },
   {
    "duration": 647,
    "start_time": "2023-02-25T09:35:06.832Z"
   },
   {
    "duration": 670,
    "start_time": "2023-02-25T09:35:07.481Z"
   },
   {
    "duration": 567,
    "start_time": "2023-02-25T09:35:08.156Z"
   },
   {
    "duration": 464,
    "start_time": "2023-02-25T09:35:08.724Z"
   },
   {
    "duration": 700,
    "start_time": "2023-02-25T09:35:09.192Z"
   },
   {
    "duration": 189,
    "start_time": "2023-02-25T09:35:09.893Z"
   },
   {
    "duration": 460,
    "start_time": "2023-02-25T09:35:10.083Z"
   },
   {
    "duration": 83,
    "start_time": "2023-02-25T09:35:19.502Z"
   },
   {
    "duration": 277,
    "start_time": "2023-02-25T09:35:43.904Z"
   },
   {
    "duration": 328,
    "start_time": "2023-02-25T09:35:52.787Z"
   },
   {
    "duration": 398,
    "start_time": "2023-02-25T09:36:25.474Z"
   },
   {
    "duration": 425,
    "start_time": "2023-02-25T09:36:52.998Z"
   },
   {
    "duration": 388,
    "start_time": "2023-02-25T09:37:13.294Z"
   },
   {
    "duration": 453,
    "start_time": "2023-02-25T09:41:59.602Z"
   },
   {
    "duration": 329,
    "start_time": "2023-02-25T09:42:02.836Z"
   },
   {
    "duration": 305,
    "start_time": "2023-02-25T09:42:46.077Z"
   },
   {
    "duration": 275,
    "start_time": "2023-02-25T09:43:14.197Z"
   },
   {
    "duration": 146,
    "start_time": "2023-02-25T09:43:45.846Z"
   },
   {
    "duration": 220,
    "start_time": "2023-02-25T09:44:23.655Z"
   },
   {
    "duration": 141,
    "start_time": "2023-02-25T09:45:12.529Z"
   },
   {
    "duration": 176,
    "start_time": "2023-02-25T09:45:45.337Z"
   },
   {
    "duration": 210,
    "start_time": "2023-02-25T09:46:11.975Z"
   },
   {
    "duration": 520,
    "start_time": "2023-02-25T09:46:59.274Z"
   },
   {
    "duration": 247,
    "start_time": "2023-02-25T09:47:34.404Z"
   },
   {
    "duration": 206,
    "start_time": "2023-02-25T09:48:15.173Z"
   },
   {
    "duration": 239,
    "start_time": "2023-02-25T09:48:18.076Z"
   },
   {
    "duration": 1557,
    "start_time": "2023-02-25T09:54:23.537Z"
   },
   {
    "duration": 1707,
    "start_time": "2023-02-25T09:54:54.268Z"
   },
   {
    "duration": 1163,
    "start_time": "2023-02-25T09:55:29.880Z"
   },
   {
    "duration": 350,
    "start_time": "2023-02-25T10:41:13.638Z"
   },
   {
    "duration": 253,
    "start_time": "2023-02-25T10:41:18.478Z"
   },
   {
    "duration": 335,
    "start_time": "2023-02-25T10:41:21.816Z"
   },
   {
    "duration": 220,
    "start_time": "2023-02-25T10:41:23.682Z"
   },
   {
    "duration": 298,
    "start_time": "2023-02-25T10:41:28.193Z"
   },
   {
    "duration": 267,
    "start_time": "2023-02-25T10:41:29.669Z"
   },
   {
    "duration": 211,
    "start_time": "2023-02-25T10:41:31.389Z"
   },
   {
    "duration": 209,
    "start_time": "2023-02-25T10:41:33.444Z"
   },
   {
    "duration": 298,
    "start_time": "2023-02-25T10:41:38.430Z"
   },
   {
    "duration": 260,
    "start_time": "2023-02-25T10:41:40.140Z"
   },
   {
    "duration": 198,
    "start_time": "2023-02-25T10:41:42.563Z"
   },
   {
    "duration": 219,
    "start_time": "2023-02-25T10:41:44.385Z"
   },
   {
    "duration": 240,
    "start_time": "2023-02-25T10:41:56.373Z"
   },
   {
    "duration": 190,
    "start_time": "2023-02-25T10:41:59.776Z"
   },
   {
    "duration": 231,
    "start_time": "2023-02-25T10:42:05.100Z"
   },
   {
    "duration": 261,
    "start_time": "2023-02-25T10:42:07.243Z"
   },
   {
    "duration": 246,
    "start_time": "2023-02-25T10:42:20.701Z"
   },
   {
    "duration": 205,
    "start_time": "2023-02-25T10:42:24.094Z"
   },
   {
    "duration": 205,
    "start_time": "2023-02-25T10:42:31.662Z"
   },
   {
    "duration": 196,
    "start_time": "2023-02-25T10:42:33.267Z"
   },
   {
    "duration": 199,
    "start_time": "2023-02-25T10:42:39.167Z"
   },
   {
    "duration": 230,
    "start_time": "2023-02-25T10:42:40.795Z"
   },
   {
    "duration": 403,
    "start_time": "2023-02-25T10:51:45.696Z"
   },
   {
    "duration": 165,
    "start_time": "2023-02-25T10:55:47.092Z"
   },
   {
    "duration": 35,
    "start_time": "2023-02-25T11:01:56.239Z"
   },
   {
    "duration": 413,
    "start_time": "2023-02-25T11:04:41.564Z"
   },
   {
    "duration": 437,
    "start_time": "2023-02-25T11:05:15.186Z"
   },
   {
    "duration": 8,
    "start_time": "2023-02-25T11:06:55.769Z"
   },
   {
    "duration": 135,
    "start_time": "2023-02-25T11:13:31.761Z"
   },
   {
    "duration": 21,
    "start_time": "2023-02-25T11:13:31.897Z"
   },
   {
    "duration": 2416,
    "start_time": "2023-02-25T11:13:31.920Z"
   },
   {
    "duration": 91,
    "start_time": "2023-02-25T11:13:34.338Z"
   },
   {
    "duration": 196,
    "start_time": "2023-02-25T11:13:34.430Z"
   },
   {
    "duration": 172,
    "start_time": "2023-02-25T11:13:34.627Z"
   },
   {
    "duration": 5,
    "start_time": "2023-02-25T11:13:34.800Z"
   },
   {
    "duration": 595,
    "start_time": "2023-02-25T11:13:34.807Z"
   },
   {
    "duration": 217,
    "start_time": "2023-02-25T11:13:35.404Z"
   },
   {
    "duration": 178,
    "start_time": "2023-02-25T11:13:35.624Z"
   },
   {
    "duration": 14,
    "start_time": "2023-02-25T11:13:35.804Z"
   },
   {
    "duration": 47,
    "start_time": "2023-02-25T11:13:35.819Z"
   },
   {
    "duration": 71,
    "start_time": "2023-02-25T11:13:35.868Z"
   },
   {
    "duration": 23,
    "start_time": "2023-02-25T11:13:35.940Z"
   },
   {
    "duration": 13,
    "start_time": "2023-02-25T11:13:35.964Z"
   },
   {
    "duration": 13,
    "start_time": "2023-02-25T11:13:35.979Z"
   },
   {
    "duration": 50,
    "start_time": "2023-02-25T11:13:35.994Z"
   },
   {
    "duration": 28,
    "start_time": "2023-02-25T11:13:36.046Z"
   },
   {
    "duration": 8,
    "start_time": "2023-02-25T11:13:36.075Z"
   },
   {
    "duration": 36,
    "start_time": "2023-02-25T11:13:36.084Z"
   },
   {
    "duration": 121,
    "start_time": "2023-02-25T11:13:36.122Z"
   },
   {
    "duration": 20,
    "start_time": "2023-02-25T11:13:36.245Z"
   },
   {
    "duration": 2463,
    "start_time": "2023-02-25T11:13:36.267Z"
   },
   {
    "duration": 565,
    "start_time": "2023-02-25T11:13:38.732Z"
   },
   {
    "duration": 680,
    "start_time": "2023-02-25T11:13:39.299Z"
   },
   {
    "duration": 626,
    "start_time": "2023-02-25T11:13:39.981Z"
   },
   {
    "duration": 463,
    "start_time": "2023-02-25T11:13:40.623Z"
   },
   {
    "duration": 513,
    "start_time": "2023-02-25T11:13:41.089Z"
   },
   {
    "duration": 219,
    "start_time": "2023-02-25T11:13:41.604Z"
   },
   {
    "duration": 395,
    "start_time": "2023-02-25T11:13:41.825Z"
   },
   {
    "duration": 448,
    "start_time": "2023-02-25T11:13:42.222Z"
   },
   {
    "duration": 292,
    "start_time": "2023-02-25T11:13:42.671Z"
   },
   {
    "duration": 601,
    "start_time": "2023-02-25T11:13:42.967Z"
   },
   {
    "duration": 322,
    "start_time": "2023-02-25T11:13:43.570Z"
   },
   {
    "duration": 275,
    "start_time": "2023-02-25T11:13:43.894Z"
   },
   {
    "duration": 144,
    "start_time": "2023-02-25T11:13:44.170Z"
   },
   {
    "duration": 133,
    "start_time": "2023-02-25T11:13:44.316Z"
   },
   {
    "duration": 152,
    "start_time": "2023-02-25T11:13:44.451Z"
   },
   {
    "duration": 195,
    "start_time": "2023-02-25T11:13:44.605Z"
   },
   {
    "duration": 186,
    "start_time": "2023-02-25T11:13:44.802Z"
   },
   {
    "duration": 217,
    "start_time": "2023-02-25T11:13:44.990Z"
   },
   {
    "duration": 260,
    "start_time": "2023-02-25T11:13:45.209Z"
   },
   {
    "duration": 192,
    "start_time": "2023-02-25T11:13:45.471Z"
   },
   {
    "duration": 140,
    "start_time": "2023-02-25T11:13:45.665Z"
   },
   {
    "duration": 902,
    "start_time": "2023-02-25T11:13:45.807Z"
   },
   {
    "duration": 304,
    "start_time": "2023-02-25T11:13:46.724Z"
   },
   {
    "duration": 240,
    "start_time": "2023-02-25T11:13:47.030Z"
   },
   {
    "duration": 218,
    "start_time": "2023-02-25T11:13:47.271Z"
   },
   {
    "duration": 181,
    "start_time": "2023-02-25T11:13:47.490Z"
   },
   {
    "duration": 235,
    "start_time": "2023-02-25T11:13:47.672Z"
   },
   {
    "duration": 246,
    "start_time": "2023-02-25T11:13:47.909Z"
   },
   {
    "duration": 188,
    "start_time": "2023-02-25T11:13:48.157Z"
   },
   {
    "duration": 184,
    "start_time": "2023-02-25T11:13:48.347Z"
   },
   {
    "duration": 253,
    "start_time": "2023-02-25T11:13:48.532Z"
   },
   {
    "duration": 219,
    "start_time": "2023-02-25T11:13:48.789Z"
   },
   {
    "duration": 176,
    "start_time": "2023-02-25T11:13:49.009Z"
   },
   {
    "duration": 209,
    "start_time": "2023-02-25T11:13:49.187Z"
   },
   {
    "duration": 182,
    "start_time": "2023-02-25T11:13:49.398Z"
   },
   {
    "duration": 209,
    "start_time": "2023-02-25T11:13:49.581Z"
   },
   {
    "duration": 180,
    "start_time": "2023-02-25T11:13:49.791Z"
   },
   {
    "duration": 190,
    "start_time": "2023-02-25T11:13:49.973Z"
   },
   {
    "duration": 515,
    "start_time": "2023-02-25T11:13:50.165Z"
   },
   {
    "duration": 188,
    "start_time": "2023-02-25T11:13:50.681Z"
   },
   {
    "duration": 179,
    "start_time": "2023-02-25T11:13:50.871Z"
   },
   {
    "duration": 154,
    "start_time": "2023-02-25T11:13:51.051Z"
   },
   {
    "duration": 190,
    "start_time": "2023-02-25T11:13:51.206Z"
   },
   {
    "duration": 183,
    "start_time": "2023-02-25T11:13:51.398Z"
   },
   {
    "duration": 185,
    "start_time": "2023-02-25T11:13:51.582Z"
   },
   {
    "duration": 30,
    "start_time": "2023-02-25T11:13:51.771Z"
   },
   {
    "duration": 461,
    "start_time": "2023-02-25T11:13:51.803Z"
   },
   {
    "duration": 8,
    "start_time": "2023-02-25T11:13:52.266Z"
   },
   {
    "duration": 749,
    "start_time": "2023-02-25T13:30:59.271Z"
   },
   {
    "duration": 13,
    "start_time": "2023-02-25T13:31:00.022Z"
   },
   {
    "duration": 2078,
    "start_time": "2023-02-25T13:31:00.037Z"
   },
   {
    "duration": 93,
    "start_time": "2023-02-25T13:31:02.117Z"
   },
   {
    "duration": 156,
    "start_time": "2023-02-25T13:31:02.212Z"
   },
   {
    "duration": 150,
    "start_time": "2023-02-25T13:31:02.369Z"
   },
   {
    "duration": 5,
    "start_time": "2023-02-25T13:31:02.521Z"
   },
   {
    "duration": 251,
    "start_time": "2023-02-25T13:31:02.527Z"
   },
   {
    "duration": 272,
    "start_time": "2023-02-25T13:31:02.780Z"
   },
   {
    "duration": 175,
    "start_time": "2023-02-25T13:31:03.054Z"
   },
   {
    "duration": 7,
    "start_time": "2023-02-25T13:31:03.231Z"
   },
   {
    "duration": 8,
    "start_time": "2023-02-25T13:31:03.240Z"
   },
   {
    "duration": 82,
    "start_time": "2023-02-25T13:31:03.250Z"
   },
   {
    "duration": 12,
    "start_time": "2023-02-25T13:31:03.334Z"
   },
   {
    "duration": 11,
    "start_time": "2023-02-25T13:31:03.347Z"
   },
   {
    "duration": 19,
    "start_time": "2023-02-25T13:31:03.359Z"
   },
   {
    "duration": 36,
    "start_time": "2023-02-25T13:31:03.379Z"
   },
   {
    "duration": 7,
    "start_time": "2023-02-25T13:31:03.416Z"
   },
   {
    "duration": 7,
    "start_time": "2023-02-25T13:31:03.424Z"
   },
   {
    "duration": 10,
    "start_time": "2023-02-25T13:31:03.432Z"
   },
   {
    "duration": 74,
    "start_time": "2023-02-25T13:31:03.443Z"
   },
   {
    "duration": 7,
    "start_time": "2023-02-25T13:31:03.520Z"
   },
   {
    "duration": 1882,
    "start_time": "2023-02-25T13:31:03.529Z"
   },
   {
    "duration": 465,
    "start_time": "2023-02-25T13:31:05.412Z"
   },
   {
    "duration": 681,
    "start_time": "2023-02-25T13:31:05.879Z"
   },
   {
    "duration": 597,
    "start_time": "2023-02-25T13:31:06.561Z"
   },
   {
    "duration": 449,
    "start_time": "2023-02-25T13:31:07.159Z"
   },
   {
    "duration": 503,
    "start_time": "2023-02-25T13:31:07.613Z"
   },
   {
    "duration": 167,
    "start_time": "2023-02-25T13:31:08.117Z"
   },
   {
    "duration": 316,
    "start_time": "2023-02-25T13:31:08.286Z"
   },
   {
    "duration": 368,
    "start_time": "2023-02-25T13:31:08.604Z"
   },
   {
    "duration": 310,
    "start_time": "2023-02-25T13:31:08.974Z"
   },
   {
    "duration": 227,
    "start_time": "2023-02-25T13:31:09.285Z"
   },
   {
    "duration": 269,
    "start_time": "2023-02-25T13:31:09.514Z"
   },
   {
    "duration": 207,
    "start_time": "2023-02-25T13:31:09.785Z"
   },
   {
    "duration": 141,
    "start_time": "2023-02-25T13:31:09.993Z"
   },
   {
    "duration": 131,
    "start_time": "2023-02-25T13:31:10.135Z"
   },
   {
    "duration": 136,
    "start_time": "2023-02-25T13:31:10.268Z"
   },
   {
    "duration": 164,
    "start_time": "2023-02-25T13:31:10.406Z"
   },
   {
    "duration": 240,
    "start_time": "2023-02-25T13:31:10.571Z"
   },
   {
    "duration": 162,
    "start_time": "2023-02-25T13:31:10.813Z"
   },
   {
    "duration": 207,
    "start_time": "2023-02-25T13:31:10.977Z"
   },
   {
    "duration": 147,
    "start_time": "2023-02-25T13:31:11.186Z"
   },
   {
    "duration": 142,
    "start_time": "2023-02-25T13:31:11.335Z"
   },
   {
    "duration": 830,
    "start_time": "2023-02-25T13:31:11.479Z"
   },
   {
    "duration": 213,
    "start_time": "2023-02-25T13:31:12.310Z"
   },
   {
    "duration": 188,
    "start_time": "2023-02-25T13:31:12.524Z"
   },
   {
    "duration": 179,
    "start_time": "2023-02-25T13:31:12.714Z"
   },
   {
    "duration": 162,
    "start_time": "2023-02-25T13:31:12.895Z"
   },
   {
    "duration": 224,
    "start_time": "2023-02-25T13:31:13.059Z"
   },
   {
    "duration": 189,
    "start_time": "2023-02-25T13:31:13.284Z"
   },
   {
    "duration": 160,
    "start_time": "2023-02-25T13:31:13.474Z"
   },
   {
    "duration": 162,
    "start_time": "2023-02-25T13:31:13.635Z"
   },
   {
    "duration": 200,
    "start_time": "2023-02-25T13:31:13.803Z"
   },
   {
    "duration": 182,
    "start_time": "2023-02-25T13:31:14.005Z"
   },
   {
    "duration": 158,
    "start_time": "2023-02-25T13:31:14.188Z"
   },
   {
    "duration": 159,
    "start_time": "2023-02-25T13:31:14.348Z"
   },
   {
    "duration": 162,
    "start_time": "2023-02-25T13:31:14.508Z"
   },
   {
    "duration": 235,
    "start_time": "2023-02-25T13:31:14.672Z"
   },
   {
    "duration": 149,
    "start_time": "2023-02-25T13:31:14.909Z"
   },
   {
    "duration": 164,
    "start_time": "2023-02-25T13:31:15.060Z"
   },
   {
    "duration": 183,
    "start_time": "2023-02-25T13:31:15.226Z"
   },
   {
    "duration": 193,
    "start_time": "2023-02-25T13:31:15.411Z"
   },
   {
    "duration": 174,
    "start_time": "2023-02-25T13:31:15.605Z"
   },
   {
    "duration": 159,
    "start_time": "2023-02-25T13:31:15.780Z"
   },
   {
    "duration": 152,
    "start_time": "2023-02-25T13:31:15.941Z"
   },
   {
    "duration": 166,
    "start_time": "2023-02-25T13:31:16.095Z"
   },
   {
    "duration": 151,
    "start_time": "2023-02-25T13:31:16.263Z"
   },
   {
    "duration": 31,
    "start_time": "2023-02-25T13:31:16.416Z"
   },
   {
    "duration": 444,
    "start_time": "2023-02-25T13:31:16.448Z"
   },
   {
    "duration": 12,
    "start_time": "2023-02-25T13:31:16.894Z"
   }
  ],
  "colab": {
   "provenance": []
  },
  "kernelspec": {
   "display_name": "Python 3 (ipykernel)",
   "language": "python",
   "name": "python3"
  },
  "language_info": {
   "codemirror_mode": {
    "name": "ipython",
    "version": 3
   },
   "file_extension": ".py",
   "mimetype": "text/x-python",
   "name": "python",
   "nbconvert_exporter": "python",
   "pygments_lexer": "ipython3",
   "version": "3.9.15"
  },
  "toc": {
   "base_numbering": 1,
   "nav_menu": {
    "height": "226px",
    "width": "212px"
   },
   "number_sections": true,
   "sideBar": true,
   "skip_h1_title": true,
   "title_cell": "Table of Contents",
   "title_sidebar": "Contents",
   "toc_cell": false,
   "toc_position": {
    "height": "calc(100% - 180px)",
    "left": "10px",
    "top": "150px",
    "width": "282.1875px"
   },
   "toc_section_display": true,
   "toc_window_display": true
  }
 },
 "nbformat": 4,
 "nbformat_minor": 1
}
